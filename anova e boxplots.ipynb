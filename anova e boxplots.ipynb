{
 "cells": [
  {
   "cell_type": "code",
   "execution_count": 1,
   "id": "9b352f66-74c9-4a31-8499-153b1f50961e",
   "metadata": {},
   "outputs": [
    {
     "name": "stderr",
     "output_type": "stream",
     "text": [
      "c:\\Users\\Usuario\\anaconda3_semestre2_2022\\lib\\site-packages\\outdated\\utils.py:14: OutdatedPackageWarning: The package outdated is out of date. Your version is 0.2.1, the latest is 0.2.2.\n",
      "Set the environment variable OUTDATED_IGNORE=1 to disable these warnings.\n",
      "  return warn(\n",
      "c:\\Users\\Usuario\\anaconda3_semestre2_2022\\lib\\site-packages\\outdated\\utils.py:14: OutdatedPackageWarning: The package pingouin is out of date. Your version is 0.5.2, the latest is 0.5.3.\n",
      "Set the environment variable OUTDATED_IGNORE=1 to disable these warnings.\n",
      "  return warn(\n"
     ]
    }
   ],
   "source": [
    "import numpy as np\n",
    "import pandas as pd\n",
    "import pingouin as pg\n",
    "import seaborn as sns\n",
    "import scipy.stats as stats\n",
    "import statsmodels.api as sm\n",
    "import matplotlib.pyplot as plt\n",
    "from statsmodels.formula.api import ols"
   ]
  },
  {
   "cell_type": "code",
   "execution_count": 2,
   "id": "339ccb7f-3a13-4e12-92e2-87e136c9a04c",
   "metadata": {},
   "outputs": [
    {
     "data": {
      "text/html": [
       "<div>\n",
       "<style scoped>\n",
       "    .dataframe tbody tr th:only-of-type {\n",
       "        vertical-align: middle;\n",
       "    }\n",
       "\n",
       "    .dataframe tbody tr th {\n",
       "        vertical-align: top;\n",
       "    }\n",
       "\n",
       "    .dataframe thead th {\n",
       "        text-align: right;\n",
       "    }\n",
       "</style>\n",
       "<table border=\"1\" class=\"dataframe\">\n",
       "  <thead>\n",
       "    <tr style=\"text-align: right;\">\n",
       "      <th></th>\n",
       "      <th>Distance</th>\n",
       "      <th>Station</th>\n",
       "      <th>Period</th>\n",
       "      <th>River type</th>\n",
       "      <th>Sector</th>\n",
       "      <th>Week</th>\n",
       "      <th>Month/Year</th>\n",
       "      <th>year</th>\n",
       "      <th>Al(dis)</th>\n",
       "      <th>Al(tot)</th>\n",
       "      <th>...</th>\n",
       "      <th>P(sed)</th>\n",
       "      <th>Mn(sed)</th>\n",
       "      <th>Clay</th>\n",
       "      <th>Silt</th>\n",
       "      <th>sandVF</th>\n",
       "      <th>sandF</th>\n",
       "      <th>sandM</th>\n",
       "      <th>sandC</th>\n",
       "      <th>sandVC</th>\n",
       "      <th>Q</th>\n",
       "    </tr>\n",
       "  </thead>\n",
       "  <tbody>\n",
       "    <tr>\n",
       "      <th>0</th>\n",
       "      <td>-19.2</td>\n",
       "      <td>PT-52</td>\n",
       "      <td>Dry Period</td>\n",
       "      <td>Principal</td>\n",
       "      <td>PT-52</td>\n",
       "      <td>14</td>\n",
       "      <td>2019-04-03</td>\n",
       "      <td>2019</td>\n",
       "      <td>0.041871</td>\n",
       "      <td>1.069429</td>\n",
       "      <td>...</td>\n",
       "      <td>198.0</td>\n",
       "      <td>395.0</td>\n",
       "      <td>0.0</td>\n",
       "      <td>93.0</td>\n",
       "      <td>97.0</td>\n",
       "      <td>237.0</td>\n",
       "      <td>362.0</td>\n",
       "      <td>199.0</td>\n",
       "      <td>12.0</td>\n",
       "      <td>32.360</td>\n",
       "    </tr>\n",
       "    <tr>\n",
       "      <th>1</th>\n",
       "      <td>-19.2</td>\n",
       "      <td>PT-52</td>\n",
       "      <td>Dry Period</td>\n",
       "      <td>Principal</td>\n",
       "      <td>PT-52</td>\n",
       "      <td>15</td>\n",
       "      <td>2019-04-10</td>\n",
       "      <td>2019</td>\n",
       "      <td>0.123471</td>\n",
       "      <td>1.408143</td>\n",
       "      <td>...</td>\n",
       "      <td>99.4</td>\n",
       "      <td>436.0</td>\n",
       "      <td>0.0</td>\n",
       "      <td>101.0</td>\n",
       "      <td>81.0</td>\n",
       "      <td>242.0</td>\n",
       "      <td>353.0</td>\n",
       "      <td>206.0</td>\n",
       "      <td>17.0</td>\n",
       "      <td>37.270</td>\n",
       "    </tr>\n",
       "    <tr>\n",
       "      <th>2</th>\n",
       "      <td>-19.2</td>\n",
       "      <td>PT-52</td>\n",
       "      <td>Dry Period</td>\n",
       "      <td>Principal</td>\n",
       "      <td>PT-52</td>\n",
       "      <td>16</td>\n",
       "      <td>2019-04-17</td>\n",
       "      <td>2019</td>\n",
       "      <td>0.079400</td>\n",
       "      <td>2.120429</td>\n",
       "      <td>...</td>\n",
       "      <td>666.0</td>\n",
       "      <td>2290.0</td>\n",
       "      <td>40.0</td>\n",
       "      <td>766.0</td>\n",
       "      <td>122.0</td>\n",
       "      <td>63.0</td>\n",
       "      <td>9.0</td>\n",
       "      <td>0.0</td>\n",
       "      <td>0.0</td>\n",
       "      <td>46.154</td>\n",
       "    </tr>\n",
       "  </tbody>\n",
       "</table>\n",
       "<p>3 rows × 36 columns</p>\n",
       "</div>"
      ],
      "text/plain": [
       "   Distance Station      Period River type Sector  Week Month/Year  year  \\\n",
       "0     -19.2   PT-52  Dry Period  Principal  PT-52    14 2019-04-03  2019   \n",
       "1     -19.2   PT-52  Dry Period  Principal  PT-52    15 2019-04-10  2019   \n",
       "2     -19.2   PT-52  Dry Period  Principal  PT-52    16 2019-04-17  2019   \n",
       "\n",
       "    Al(dis)   Al(tot)  ...  P(sed)  Mn(sed)  Clay   Silt  sandVF  sandF  \\\n",
       "0  0.041871  1.069429  ...   198.0    395.0   0.0   93.0    97.0  237.0   \n",
       "1  0.123471  1.408143  ...    99.4    436.0   0.0  101.0    81.0  242.0   \n",
       "2  0.079400  2.120429  ...   666.0   2290.0  40.0  766.0   122.0   63.0   \n",
       "\n",
       "   sandM  sandC  sandVC       Q  \n",
       "0  362.0  199.0    12.0  32.360  \n",
       "1  353.0  206.0    17.0  37.270  \n",
       "2    9.0    0.0     0.0  46.154  \n",
       "\n",
       "[3 rows x 36 columns]"
      ]
     },
     "execution_count": 2,
     "metadata": {},
     "output_type": "execute_result"
    }
   ],
   "source": [
    "dados = pd.read_excel('anova.xlsx')\n",
    "dados = pd.read_excel('Base de Dados_Glauco_JP-organizados.xlsx','sequencial')\n",
    "dados = dados.dropna()\n",
    "dados.head(3)"
   ]
  },
  {
   "cell_type": "code",
   "execution_count": 3,
   "id": "b5b073c2-c184-4fdd-9c3a-230043ca64dd",
   "metadata": {},
   "outputs": [
    {
     "name": "stdout",
     "output_type": "stream",
     "text": [
      "<class 'pandas.core.frame.DataFrame'>\n",
      "Int64Index: 620 entries, 0 to 619\n",
      "Data columns (total 36 columns):\n",
      " #   Column      Non-Null Count  Dtype         \n",
      "---  ------      --------------  -----         \n",
      " 0   Distance    620 non-null    float64       \n",
      " 1   Station     620 non-null    object        \n",
      " 2   Period      620 non-null    object        \n",
      " 3   River type  620 non-null    object        \n",
      " 4   Sector      620 non-null    object        \n",
      " 5   Week        620 non-null    int64         \n",
      " 6   Month/Year  620 non-null    datetime64[ns]\n",
      " 7   year        620 non-null    int64         \n",
      " 8   Al(dis)     620 non-null    float64       \n",
      " 9   Al(tot)     620 non-null    float64       \n",
      " 10  As(tot)     620 non-null    float64       \n",
      " 11  Pb(dis)     620 non-null    float64       \n",
      " 12  Pd(tot)     620 non-null    float64       \n",
      " 13  Fe(dis)     620 non-null    float64       \n",
      " 14  Fe(tot)     620 non-null    float64       \n",
      " 15  P(dis)      620 non-null    float64       \n",
      " 16  P(tot)      620 non-null    float64       \n",
      " 17  Mn(dis)     620 non-null    float64       \n",
      " 18  Mn(tot)     620 non-null    float64       \n",
      " 19  pH          620 non-null    float64       \n",
      " 20  T           620 non-null    float64       \n",
      " 21  Turb        620 non-null    float64       \n",
      " 22  Al(sed)     620 non-null    float64       \n",
      " 23  As(sed)     620 non-null    float64       \n",
      " 24  Pb(sed)     620 non-null    float64       \n",
      " 25  Fe(sed)     620 non-null    float64       \n",
      " 26  P(sed)      620 non-null    float64       \n",
      " 27  Mn(sed)     620 non-null    float64       \n",
      " 28  Clay        620 non-null    float64       \n",
      " 29  Silt        620 non-null    float64       \n",
      " 30  sandVF      620 non-null    float64       \n",
      " 31  sandF       620 non-null    float64       \n",
      " 32  sandM       620 non-null    float64       \n",
      " 33  sandC       620 non-null    float64       \n",
      " 34  sandVC      620 non-null    float64       \n",
      " 35  Q           620 non-null    float64       \n",
      "dtypes: datetime64[ns](1), float64(29), int64(2), object(4)\n",
      "memory usage: 179.2+ KB\n"
     ]
    }
   ],
   "source": [
    "dados.info()"
   ]
  },
  {
   "cell_type": "code",
   "execution_count": 4,
   "id": "18067470",
   "metadata": {},
   "outputs": [
    {
     "data": {
      "text/html": [
       "<div>\n",
       "<style scoped>\n",
       "    .dataframe tbody tr th:only-of-type {\n",
       "        vertical-align: middle;\n",
       "    }\n",
       "\n",
       "    .dataframe tbody tr th {\n",
       "        vertical-align: top;\n",
       "    }\n",
       "\n",
       "    .dataframe thead tr th {\n",
       "        text-align: left;\n",
       "    }\n",
       "</style>\n",
       "<table border=\"1\" class=\"dataframe\">\n",
       "  <thead>\n",
       "    <tr>\n",
       "      <th></th>\n",
       "      <th>Station</th>\n",
       "      <th colspan=\"2\" halign=\"left\">PT-13</th>\n",
       "      <th colspan=\"2\" halign=\"left\">PT-14</th>\n",
       "      <th colspan=\"2\" halign=\"left\">PT-19</th>\n",
       "      <th colspan=\"2\" halign=\"left\">PT-52</th>\n",
       "    </tr>\n",
       "    <tr>\n",
       "      <th></th>\n",
       "      <th>Period</th>\n",
       "      <th>Dry Period</th>\n",
       "      <th>Rainy Period</th>\n",
       "      <th>Dry Period</th>\n",
       "      <th>Rainy Period</th>\n",
       "      <th>Dry Period</th>\n",
       "      <th>Rainy Period</th>\n",
       "      <th>Dry Period</th>\n",
       "      <th>Rainy Period</th>\n",
       "    </tr>\n",
       "  </thead>\n",
       "  <tbody>\n",
       "    <tr>\n",
       "      <th rowspan=\"5\" valign=\"top\">Distance</th>\n",
       "      <th>count</th>\n",
       "      <td>7.900000e+01</td>\n",
       "      <td>7.600000e+01</td>\n",
       "      <td>7.900000e+01</td>\n",
       "      <td>7.800000e+01</td>\n",
       "      <td>7.900000e+01</td>\n",
       "      <td>7.500000e+01</td>\n",
       "      <td>7.600000e+01</td>\n",
       "      <td>7.800000e+01</td>\n",
       "    </tr>\n",
       "    <tr>\n",
       "      <th>mean</th>\n",
       "      <td>8.800000e+00</td>\n",
       "      <td>8.800000e+00</td>\n",
       "      <td>5.390000e+01</td>\n",
       "      <td>5.390000e+01</td>\n",
       "      <td>2.498000e+02</td>\n",
       "      <td>2.498000e+02</td>\n",
       "      <td>-1.920000e+01</td>\n",
       "      <td>-1.920000e+01</td>\n",
       "    </tr>\n",
       "    <tr>\n",
       "      <th>std</th>\n",
       "      <td>7.150830e-15</td>\n",
       "      <td>5.364480e-15</td>\n",
       "      <td>4.290498e-14</td>\n",
       "      <td>4.290851e-14</td>\n",
       "      <td>3.718432e-13</td>\n",
       "      <td>3.433572e-13</td>\n",
       "      <td>2.861056e-14</td>\n",
       "      <td>2.860567e-14</td>\n",
       "    </tr>\n",
       "    <tr>\n",
       "      <th>min</th>\n",
       "      <td>8.800000e+00</td>\n",
       "      <td>8.800000e+00</td>\n",
       "      <td>5.390000e+01</td>\n",
       "      <td>5.390000e+01</td>\n",
       "      <td>2.498000e+02</td>\n",
       "      <td>2.498000e+02</td>\n",
       "      <td>-1.920000e+01</td>\n",
       "      <td>-1.920000e+01</td>\n",
       "    </tr>\n",
       "    <tr>\n",
       "      <th>25%</th>\n",
       "      <td>8.800000e+00</td>\n",
       "      <td>8.800000e+00</td>\n",
       "      <td>5.390000e+01</td>\n",
       "      <td>5.390000e+01</td>\n",
       "      <td>2.498000e+02</td>\n",
       "      <td>2.498000e+02</td>\n",
       "      <td>-1.920000e+01</td>\n",
       "      <td>-1.920000e+01</td>\n",
       "    </tr>\n",
       "    <tr>\n",
       "      <th>...</th>\n",
       "      <th>...</th>\n",
       "      <td>...</td>\n",
       "      <td>...</td>\n",
       "      <td>...</td>\n",
       "      <td>...</td>\n",
       "      <td>...</td>\n",
       "      <td>...</td>\n",
       "      <td>...</td>\n",
       "      <td>...</td>\n",
       "    </tr>\n",
       "    <tr>\n",
       "      <th rowspan=\"5\" valign=\"top\">Q</th>\n",
       "      <th>min</th>\n",
       "      <td>1.061563e+01</td>\n",
       "      <td>1.402330e+01</td>\n",
       "      <td>1.061563e+01</td>\n",
       "      <td>1.402330e+01</td>\n",
       "      <td>1.061563e+01</td>\n",
       "      <td>1.402330e+01</td>\n",
       "      <td>1.061563e+01</td>\n",
       "      <td>1.402330e+01</td>\n",
       "    </tr>\n",
       "    <tr>\n",
       "      <th>25%</th>\n",
       "      <td>1.624047e+01</td>\n",
       "      <td>4.304747e+01</td>\n",
       "      <td>1.624047e+01</td>\n",
       "      <td>4.363739e+01</td>\n",
       "      <td>1.624047e+01</td>\n",
       "      <td>4.371112e+01</td>\n",
       "      <td>1.640318e+01</td>\n",
       "      <td>4.760487e+01</td>\n",
       "    </tr>\n",
       "    <tr>\n",
       "      <th>50%</th>\n",
       "      <td>2.218991e+01</td>\n",
       "      <td>6.684765e+01</td>\n",
       "      <td>2.218991e+01</td>\n",
       "      <td>6.873784e+01</td>\n",
       "      <td>2.218991e+01</td>\n",
       "      <td>6.881409e+01</td>\n",
       "      <td>2.230542e+01</td>\n",
       "      <td>7.566505e+01</td>\n",
       "    </tr>\n",
       "    <tr>\n",
       "      <th>75%</th>\n",
       "      <td>3.050043e+01</td>\n",
       "      <td>1.061795e+02</td>\n",
       "      <td>3.050043e+01</td>\n",
       "      <td>1.089183e+02</td>\n",
       "      <td>3.050043e+01</td>\n",
       "      <td>1.122809e+02</td>\n",
       "      <td>3.023422e+01</td>\n",
       "      <td>1.139502e+02</td>\n",
       "    </tr>\n",
       "    <tr>\n",
       "      <th>max</th>\n",
       "      <td>9.040060e+01</td>\n",
       "      <td>2.863792e+02</td>\n",
       "      <td>9.040060e+01</td>\n",
       "      <td>7.149812e+02</td>\n",
       "      <td>9.040060e+01</td>\n",
       "      <td>5.748590e+02</td>\n",
       "      <td>9.040060e+01</td>\n",
       "      <td>7.149812e+02</td>\n",
       "    </tr>\n",
       "  </tbody>\n",
       "</table>\n",
       "<p>248 rows × 8 columns</p>\n",
       "</div>"
      ],
      "text/plain": [
       "Station                PT-13                       PT-14                \\\n",
       "Period            Dry Period  Rainy Period    Dry Period  Rainy Period   \n",
       "Distance count  7.900000e+01  7.600000e+01  7.900000e+01  7.800000e+01   \n",
       "         mean   8.800000e+00  8.800000e+00  5.390000e+01  5.390000e+01   \n",
       "         std    7.150830e-15  5.364480e-15  4.290498e-14  4.290851e-14   \n",
       "         min    8.800000e+00  8.800000e+00  5.390000e+01  5.390000e+01   \n",
       "         25%    8.800000e+00  8.800000e+00  5.390000e+01  5.390000e+01   \n",
       "...                      ...           ...           ...           ...   \n",
       "Q        min    1.061563e+01  1.402330e+01  1.061563e+01  1.402330e+01   \n",
       "         25%    1.624047e+01  4.304747e+01  1.624047e+01  4.363739e+01   \n",
       "         50%    2.218991e+01  6.684765e+01  2.218991e+01  6.873784e+01   \n",
       "         75%    3.050043e+01  1.061795e+02  3.050043e+01  1.089183e+02   \n",
       "         max    9.040060e+01  2.863792e+02  9.040060e+01  7.149812e+02   \n",
       "\n",
       "Station                PT-19                       PT-52                \n",
       "Period            Dry Period  Rainy Period    Dry Period  Rainy Period  \n",
       "Distance count  7.900000e+01  7.500000e+01  7.600000e+01  7.800000e+01  \n",
       "         mean   2.498000e+02  2.498000e+02 -1.920000e+01 -1.920000e+01  \n",
       "         std    3.718432e-13  3.433572e-13  2.861056e-14  2.860567e-14  \n",
       "         min    2.498000e+02  2.498000e+02 -1.920000e+01 -1.920000e+01  \n",
       "         25%    2.498000e+02  2.498000e+02 -1.920000e+01 -1.920000e+01  \n",
       "...                      ...           ...           ...           ...  \n",
       "Q        min    1.061563e+01  1.402330e+01  1.061563e+01  1.402330e+01  \n",
       "         25%    1.624047e+01  4.371112e+01  1.640318e+01  4.760487e+01  \n",
       "         50%    2.218991e+01  6.881409e+01  2.230542e+01  7.566505e+01  \n",
       "         75%    3.050043e+01  1.122809e+02  3.023422e+01  1.139502e+02  \n",
       "         max    9.040060e+01  5.748590e+02  9.040060e+01  7.149812e+02  \n",
       "\n",
       "[248 rows x 8 columns]"
      ]
     },
     "execution_count": 4,
     "metadata": {},
     "output_type": "execute_result"
    }
   ],
   "source": [
    "#pd.set_option('display.max_rows',None)\n",
    "dados.groupby(['Station','Period']).describe().T"
   ]
  },
  {
   "cell_type": "markdown",
   "id": "8550a629-ea1a-42a1-ad20-0b4922928c3f",
   "metadata": {},
   "source": [
    "# Dissolvidos"
   ]
  },
  {
   "cell_type": "code",
   "execution_count": 5,
   "id": "a00562c8-2fad-4407-a94d-1b041969431b",
   "metadata": {},
   "outputs": [
    {
     "data": {
      "text/plain": [
       "(0.0, 1.5)"
      ]
     },
     "execution_count": 5,
     "metadata": {},
     "output_type": "execute_result"
    },
    {
     "data": {
      "image/png": "[encoded data removed]",
      "text/plain": [
       "<Figure size 432x288 with 1 Axes>"
      ]
     },
     "metadata": {
      "needs_background": "light"
     },
     "output_type": "display_data"
    }
   ],
   "source": [
    "sns.boxplot(y='Fe(dis)',\n",
    "            x='Sector',\n",
    "            data=dados,\n",
    "            hue='Period',\n",
    "            showmeans=True,\n",
    "            palette=\"Set1\",\n",
    "            meanprops={\"marker\":\"o\",\n",
    "                       \"markerfacecolor\":\"white\", \n",
    "                       \"markeredgecolor\":\"black\",\n",
    "                      \"markersize\":\"6\"})\n",
    "\n",
    "plt.xlabel('')\n",
    "plt.ylabel('Dissolved Iron (mg/L)', fontsize=14)\n",
    "plt.text(-0.4,1.4,\"A)\",\n",
    "         horizontalalignment='left',\n",
    "         size=16,\n",
    "         color='black',\n",
    "         weight='normal')\n",
    "plt.legend(loc='lower left',\n",
    "           ncol=1,\n",
    "           bbox_to_anchor=(0.1,0.7),\n",
    "           frameon=True)\n",
    "plt.ylim([0,1.5])"
   ]
  },
  {
   "cell_type": "code",
   "execution_count": 6,
   "id": "018f1b10-9f8f-42d9-a1d5-51e0a9e74d46",
   "metadata": {},
   "outputs": [
    {
     "data": {
      "text/plain": [
       "(0.0, 1.5)"
      ]
     },
     "execution_count": 6,
     "metadata": {},
     "output_type": "execute_result"
    },
    {
     "data": {
      "image/png": "[encoded data removed]",
      "text/plain": [
       "<Figure size 432x288 with 1 Axes>"
      ]
     },
     "metadata": {
      "needs_background": "light"
     },
     "output_type": "display_data"
    }
   ],
   "source": [
    "sns.boxplot(y='Al(dis)',\n",
    "            x='Sector',\n",
    "            data=dados,\n",
    "            hue='Period',\n",
    "            showmeans=True,\n",
    "            palette=\"Set1\",\n",
    "            meanprops={\"marker\":\"o\",\n",
    "                       \"markerfacecolor\":\"white\", \n",
    "                       \"markeredgecolor\":\"black\",\n",
    "                      \"markersize\":\"6\"})\n",
    "\n",
    "plt.xlabel('')\n",
    "plt.ylabel('Dissolved Aluminum (mg/L)', fontsize=14)\n",
    "plt.text(-0.4,1.4,\"B)\",\n",
    "         horizontalalignment='left',\n",
    "         size=16,\n",
    "         color='black',\n",
    "         weight='normal')\n",
    "#plt.legend(loc='lower left',\n",
    "#           ncol=1,\n",
    "#           bbox_to_anchor=(0.1,0.7),\n",
    "#           frameon=True)\n",
    "plt.legend('',frameon=False)\n",
    "plt.ylim([0,1.5])"
   ]
  },
  {
   "cell_type": "code",
   "execution_count": 36,
   "id": "8686d940-28ae-4efe-bdab-3db0ec75648c",
   "metadata": {},
   "outputs": [
    {
     "data": {
      "text/plain": [
       "(0.0, 0.35)"
      ]
     },
     "execution_count": 36,
     "metadata": {},
     "output_type": "execute_result"
    },
    {
     "data": {
      "image/png": "[encoded data removed]",
      "text/plain": [
       "<Figure size 432x288 with 1 Axes>"
      ]
     },
     "metadata": {
      "needs_background": "light"
     },
     "output_type": "display_data"
    }
   ],
   "source": [
    "sns.boxplot(y='Mn(dis)',\n",
    "            x='Sector',\n",
    "            data=dados,\n",
    "            hue='Period',\n",
    "            showmeans=True,\n",
    "            palette=\"Set1\",\n",
    "            meanprops={\"marker\":\"o\",\n",
    "                       \"markerfacecolor\":\"white\", \n",
    "                       \"markeredgecolor\":\"black\",\n",
    "                      \"markersize\":\"6\"})\n",
    "\n",
    "plt.xlabel('')\n",
    "plt.ylabel('Dissolved Manganese (mg/L)', fontsize=14)\n",
    "plt.text(-0.4,0.32,\"C)\",\n",
    "         horizontalalignment='left',\n",
    "         size=16,\n",
    "         color='black',\n",
    "         weight='normal')\n",
    "#plt.legend(loc='lower left',\n",
    "#           ncol=1,\n",
    "#           bbox_to_anchor=(0.1,0.7),\n",
    "#           frameon=True)\n",
    "plt.legend('',frameon=False)\n",
    "plt.ylim([0,0.35])"
   ]
  },
  {
   "cell_type": "code",
   "execution_count": 8,
   "id": "8289e1a8-f87c-4e01-aa86-4589e834f7cb",
   "metadata": {},
   "outputs": [
    {
     "data": {
      "text/html": [
       "<div>\n",
       "<style scoped>\n",
       "    .dataframe tbody tr th:only-of-type {\n",
       "        vertical-align: middle;\n",
       "    }\n",
       "\n",
       "    .dataframe tbody tr th {\n",
       "        vertical-align: top;\n",
       "    }\n",
       "\n",
       "    .dataframe thead tr th {\n",
       "        text-align: left;\n",
       "    }\n",
       "\n",
       "    .dataframe thead tr:last-of-type th {\n",
       "        text-align: right;\n",
       "    }\n",
       "</style>\n",
       "<table border=\"1\" class=\"dataframe\">\n",
       "  <thead>\n",
       "    <tr>\n",
       "      <th></th>\n",
       "      <th colspan=\"8\" halign=\"left\">Distance</th>\n",
       "      <th colspan=\"2\" halign=\"left\">Week</th>\n",
       "      <th>...</th>\n",
       "      <th colspan=\"2\" halign=\"left\">sandVC</th>\n",
       "      <th colspan=\"8\" halign=\"left\">Q</th>\n",
       "    </tr>\n",
       "    <tr>\n",
       "      <th></th>\n",
       "      <th>count</th>\n",
       "      <th>mean</th>\n",
       "      <th>std</th>\n",
       "      <th>min</th>\n",
       "      <th>25%</th>\n",
       "      <th>50%</th>\n",
       "      <th>75%</th>\n",
       "      <th>max</th>\n",
       "      <th>count</th>\n",
       "      <th>mean</th>\n",
       "      <th>...</th>\n",
       "      <th>75%</th>\n",
       "      <th>max</th>\n",
       "      <th>count</th>\n",
       "      <th>mean</th>\n",
       "      <th>std</th>\n",
       "      <th>min</th>\n",
       "      <th>25%</th>\n",
       "      <th>50%</th>\n",
       "      <th>75%</th>\n",
       "      <th>max</th>\n",
       "    </tr>\n",
       "    <tr>\n",
       "      <th>Period</th>\n",
       "      <th></th>\n",
       "      <th></th>\n",
       "      <th></th>\n",
       "      <th></th>\n",
       "      <th></th>\n",
       "      <th></th>\n",
       "      <th></th>\n",
       "      <th></th>\n",
       "      <th></th>\n",
       "      <th></th>\n",
       "      <th></th>\n",
       "      <th></th>\n",
       "      <th></th>\n",
       "      <th></th>\n",
       "      <th></th>\n",
       "      <th></th>\n",
       "      <th></th>\n",
       "      <th></th>\n",
       "      <th></th>\n",
       "      <th></th>\n",
       "      <th></th>\n",
       "    </tr>\n",
       "  </thead>\n",
       "  <tbody>\n",
       "    <tr>\n",
       "      <th>Dry Period</th>\n",
       "      <td>313.0</td>\n",
       "      <td>74.211821</td>\n",
       "      <td>105.451330</td>\n",
       "      <td>-19.2</td>\n",
       "      <td>8.8</td>\n",
       "      <td>53.9</td>\n",
       "      <td>249.8</td>\n",
       "      <td>249.8</td>\n",
       "      <td>313.0</td>\n",
       "      <td>79.376997</td>\n",
       "      <td>...</td>\n",
       "      <td>21.0</td>\n",
       "      <td>859.0</td>\n",
       "      <td>313.0</td>\n",
       "      <td>25.855933</td>\n",
       "      <td>13.991353</td>\n",
       "      <td>10.615627</td>\n",
       "      <td>16.245536</td>\n",
       "      <td>22.189911</td>\n",
       "      <td>31.032857</td>\n",
       "      <td>90.400595</td>\n",
       "    </tr>\n",
       "    <tr>\n",
       "      <th>Rainy Period</th>\n",
       "      <td>307.0</td>\n",
       "      <td>72.020847</td>\n",
       "      <td>104.613184</td>\n",
       "      <td>-19.2</td>\n",
       "      <td>-19.2</td>\n",
       "      <td>8.8</td>\n",
       "      <td>53.9</td>\n",
       "      <td>249.8</td>\n",
       "      <td>307.0</td>\n",
       "      <td>86.374593</td>\n",
       "      <td>...</td>\n",
       "      <td>1.0</td>\n",
       "      <td>708.0</td>\n",
       "      <td>307.0</td>\n",
       "      <td>89.438683</td>\n",
       "      <td>82.001828</td>\n",
       "      <td>14.023304</td>\n",
       "      <td>43.858571</td>\n",
       "      <td>68.814092</td>\n",
       "      <td>112.020982</td>\n",
       "      <td>714.981235</td>\n",
       "    </tr>\n",
       "  </tbody>\n",
       "</table>\n",
       "<p>2 rows × 248 columns</p>\n",
       "</div>"
      ],
      "text/plain": [
       "             Distance                                                         \\\n",
       "                count       mean         std   min   25%   50%    75%    max   \n",
       "Period                                                                         \n",
       "Dry Period      313.0  74.211821  105.451330 -19.2   8.8  53.9  249.8  249.8   \n",
       "Rainy Period    307.0  72.020847  104.613184 -19.2 -19.2   8.8   53.9  249.8   \n",
       "\n",
       "               Week             ... sandVC             Q             \\\n",
       "              count       mean  ...    75%    max  count       mean   \n",
       "Period                          ...                                   \n",
       "Dry Period    313.0  79.376997  ...   21.0  859.0  313.0  25.855933   \n",
       "Rainy Period  307.0  86.374593  ...    1.0  708.0  307.0  89.438683   \n",
       "\n",
       "                                                                      \\\n",
       "                    std        min        25%        50%         75%   \n",
       "Period                                                                 \n",
       "Dry Period    13.991353  10.615627  16.245536  22.189911   31.032857   \n",
       "Rainy Period  82.001828  14.023304  43.858571  68.814092  112.020982   \n",
       "\n",
       "                          \n",
       "                     max  \n",
       "Period                    \n",
       "Dry Period     90.400595  \n",
       "Rainy Period  714.981235  \n",
       "\n",
       "[2 rows x 248 columns]"
      ]
     },
     "execution_count": 8,
     "metadata": {},
     "output_type": "execute_result"
    }
   ],
   "source": [
    "dados.groupby('Period').describe()#.T.to_excel('outputmediasdissolvido.xlsx')"
   ]
  },
  {
   "cell_type": "markdown",
   "id": "c83849ec-2797-41ec-b22e-6965e336073a",
   "metadata": {},
   "source": [
    "# Totais"
   ]
  },
  {
   "cell_type": "code",
   "execution_count": 9,
   "id": "57c64aea-2d99-4210-aee6-7de14815ea3f",
   "metadata": {},
   "outputs": [
    {
     "data": {
      "text/plain": [
       "(0.0, 25.0)"
      ]
     },
     "execution_count": 9,
     "metadata": {},
     "output_type": "execute_result"
    },
    {
     "data": {
      "image/png": "[encoded data removed]",
      "text/plain": [
       "<Figure size 432x288 with 1 Axes>"
      ]
     },
     "metadata": {
      "needs_background": "light"
     },
     "output_type": "display_data"
    }
   ],
   "source": [
    "sns.boxplot(y='Fe(tot)',\n",
    "            x='Sector',\n",
    "            data=dados,\n",
    "            hue='Period',\n",
    "            showmeans=True,\n",
    "            palette=\"Set1\",\n",
    "            meanprops={\"marker\":\"o\",\n",
    "                       \"markerfacecolor\":\"white\", \n",
    "                       \"markeredgecolor\":\"black\",\n",
    "                      \"markersize\":\"6\"})\n",
    "\n",
    "plt.xlabel('')\n",
    "plt.ylabel('Total Iron (mg/L)', fontsize=14)\n",
    "plt.text(-0.4,23,\"A)\",\n",
    "         horizontalalignment='left',\n",
    "         size=16,\n",
    "         color='black',\n",
    "         weight='normal')\n",
    "plt.legend(loc='lower left',\n",
    "           ncol=1,\n",
    "           bbox_to_anchor=(0.5,0.6),\n",
    "           frameon=True)\n",
    "#plt.legend('',frameon=False)\n",
    "plt.ylim([0,25])"
   ]
  },
  {
   "cell_type": "code",
   "execution_count": 10,
   "id": "54497d25-86be-45f9-ab60-c1a26366d4fc",
   "metadata": {},
   "outputs": [
    {
     "data": {
      "text/plain": [
       "(0.0, 25.0)"
      ]
     },
     "execution_count": 10,
     "metadata": {},
     "output_type": "execute_result"
    },
    {
     "data": {
      "image/png": "[encoded data removed]",
      "text/plain": [
       "<Figure size 432x288 with 1 Axes>"
      ]
     },
     "metadata": {
      "needs_background": "light"
     },
     "output_type": "display_data"
    }
   ],
   "source": [
    "sns.boxplot(y='Al(tot)',\n",
    "            x='Sector',\n",
    "            data=dados,\n",
    "            hue='Period',\n",
    "            showmeans=True,\n",
    "            palette=\"Set1\",\n",
    "            meanprops={\"marker\":\"o\",\n",
    "                       \"markerfacecolor\":\"white\", \n",
    "                       \"markeredgecolor\":\"black\",\n",
    "                      \"markersize\":\"6\"})\n",
    "\n",
    "plt.xlabel('')\n",
    "plt.ylabel('Total Aluminum (mg/L)', fontsize=14)\n",
    "plt.text(-0.4,23,\"B)\",\n",
    "         horizontalalignment='left',\n",
    "         size=16,\n",
    "         color='black',\n",
    "         weight='normal')\n",
    "#plt.legend(loc='lower left',\n",
    "#           ncol=1,\n",
    "#           bbox_to_anchor=(0.1,0.5),\n",
    "#           frameon=True)\n",
    "plt.legend('',frameon=False)\n",
    "plt.ylim([0,25])"
   ]
  },
  {
   "cell_type": "code",
   "execution_count": 11,
   "id": "93a663db-8cd3-4847-8a6c-18c80f9922e3",
   "metadata": {},
   "outputs": [
    {
     "data": {
      "text/plain": [
       "(0.0, 5.0)"
      ]
     },
     "execution_count": 11,
     "metadata": {},
     "output_type": "execute_result"
    },
    {
     "data": {
      "image/png": "[encoded data removed]",
      "text/plain": [
       "<Figure size 432x288 with 1 Axes>"
      ]
     },
     "metadata": {
      "needs_background": "light"
     },
     "output_type": "display_data"
    }
   ],
   "source": [
    "sns.boxplot(y='Mn(tot)',\n",
    "            x='Sector',\n",
    "            data=dados,\n",
    "            hue='Period',\n",
    "            showmeans=True,\n",
    "            palette=\"Set1\",\n",
    "            meanprops={\"marker\":\"o\",\n",
    "                       \"markerfacecolor\":\"white\", \n",
    "                       \"markeredgecolor\":\"black\",\n",
    "                      \"markersize\":\"6\"})\n",
    "\n",
    "plt.xlabel('')\n",
    "plt.ylabel('Total Manganese (mg/L)', fontsize=14)\n",
    "plt.text(-0.4,4.5,\"C)\",\n",
    "         horizontalalignment='left',\n",
    "         size=16,\n",
    "         color='black',\n",
    "         weight='normal')\n",
    "#plt.legend(loc='lower left',\n",
    "#           ncol=1,\n",
    "#           bbox_to_anchor=(0.1,0.5),\n",
    "#           frameon=True)\n",
    "plt.legend('',frameon=False)\n",
    "plt.ylim([0,5])"
   ]
  },
  {
   "cell_type": "code",
   "execution_count": 12,
   "id": "64499ba1-6cf3-41cb-a92c-04a58707ff5e",
   "metadata": {},
   "outputs": [
    {
     "data": {
      "text/plain": [
       "Index(['Distance', 'Station', 'Period', 'River type', 'Sector', 'Week',\n",
       "       'Month/Year', 'year', 'Al(dis)', 'Al(tot)', 'As(tot)', 'Pb(dis)',\n",
       "       'Pd(tot)', 'Fe(dis)', 'Fe(tot)', 'P(dis)', 'P(tot)', 'Mn(dis)',\n",
       "       'Mn(tot)', 'pH', 'T', 'Turb', 'Al(sed)', 'As(sed)', 'Pb(sed)',\n",
       "       'Fe(sed)', 'P(sed)', 'Mn(sed)', 'Clay', 'Silt', 'sandVF', 'sandF',\n",
       "       'sandM', 'sandC', 'sandVC', 'Q'],\n",
       "      dtype='object')"
      ]
     },
     "execution_count": 12,
     "metadata": {},
     "output_type": "execute_result"
    }
   ],
   "source": [
    "dados.columns"
   ]
  },
  {
   "cell_type": "code",
   "execution_count": 13,
   "id": "23b3d901-4d5a-485b-a6e0-ad482f1cd6c3",
   "metadata": {},
   "outputs": [
    {
     "data": {
      "text/plain": [
       "<AxesSubplot:title={'center':'Q-Q Plot'}, xlabel='Theoretical quantiles', ylabel='Ordered quantiles'>"
      ]
     },
     "execution_count": 13,
     "metadata": {},
     "output_type": "execute_result"
    },
    {
     "data": {
      "image/png": "[encoded data removed]",
      "text/plain": [
       "<Figure size 360x288 with 1 Axes>"
      ]
     },
     "metadata": {
      "needs_background": "light"
     },
     "output_type": "display_data"
    }
   ],
   "source": [
    "pg.qqplot(dados['Fe(dis)'])"
   ]
  },
  {
   "cell_type": "code",
   "execution_count": 14,
   "id": "271a29db-0e79-45b7-b263-972d6a8e9aab",
   "metadata": {},
   "outputs": [
    {
     "data": {
      "text/plain": [
       "<seaborn.axisgrid.FacetGrid at 0x29a660c24c0>"
      ]
     },
     "execution_count": 14,
     "metadata": {},
     "output_type": "execute_result"
    },
    {
     "data": {
      "image/png": "[encoded data removed]",
      "text/plain": [
       "<Figure size 432x864 with 8 Axes>"
      ]
     },
     "metadata": {
      "needs_background": "light"
     },
     "output_type": "display_data"
    }
   ],
   "source": [
    "sns.displot(dados,\n",
    "            x=\"Fe(dis)\", col=\"Period\", row=\"Station\", bins=20,kde=False,\n",
    "    binwidth=1, height=3, facet_kws=dict(margin_titles=True))"
   ]
  },
  {
   "cell_type": "code",
   "execution_count": 15,
   "id": "58255e55-9e89-43ee-9349-c815395199ac",
   "metadata": {},
   "outputs": [
    {
     "data": {
      "text/plain": [
       "<seaborn.axisgrid.FacetGrid at 0x29a6612b610>"
      ]
     },
     "execution_count": 15,
     "metadata": {},
     "output_type": "execute_result"
    },
    {
     "data": {
      "image/png": "[encoded data removed]",
      "text/plain": [
       "<Figure size 423.5x360 with 1 Axes>"
      ]
     },
     "metadata": {
      "needs_background": "light"
     },
     "output_type": "display_data"
    }
   ],
   "source": [
    "sns.displot(x='Fe(dis)', hue='Station', kde=True, data=dados)"
   ]
  },
  {
   "cell_type": "code",
   "execution_count": 16,
   "id": "bc083f5d-60dc-4dd9-a6c4-f9b519617366",
   "metadata": {},
   "outputs": [
    {
     "data": {
      "text/plain": [
       "<seaborn.axisgrid.FacetGrid at 0x29a65fae880>"
      ]
     },
     "execution_count": 16,
     "metadata": {},
     "output_type": "execute_result"
    },
    {
     "data": {
      "image/png": "[encoded data removed]",
      "text/plain": [
       "<Figure size 458.125x360 with 1 Axes>"
      ]
     },
     "metadata": {
      "needs_background": "light"
     },
     "output_type": "display_data"
    }
   ],
   "source": [
    "sns.displot(x='Fe(dis)', hue='Period', kde=True, data=dados)"
   ]
  },
  {
   "cell_type": "code",
   "execution_count": 17,
   "id": "0b45824b-5142-4e63-8e49-e204accd66fa",
   "metadata": {},
   "outputs": [
    {
     "data": {
      "text/plain": [
       "<seaborn.axisgrid.FacetGrid at 0x29a660c2e80>"
      ]
     },
     "execution_count": 17,
     "metadata": {},
     "output_type": "execute_result"
    },
    {
     "data": {
      "image/png": "[encoded data removed]",
      "text/plain": [
       "<Figure size 360x360 with 1 Axes>"
      ]
     },
     "metadata": {
      "needs_background": "light"
     },
     "output_type": "display_data"
    }
   ],
   "source": [
    "sns.displot(dados['Al(dis)'], kde=True)"
   ]
  },
  {
   "cell_type": "code",
   "execution_count": 18,
   "id": "77f5e46b-04f7-463a-aded-b1b0d2e578ee",
   "metadata": {},
   "outputs": [
    {
     "data": {
      "text/plain": [
       "<seaborn.axisgrid.FacetGrid at 0x29a660a0ca0>"
      ]
     },
     "execution_count": 18,
     "metadata": {},
     "output_type": "execute_result"
    },
    {
     "data": {
      "image/png": "[encoded data removed]",
      "text/plain": [
       "<Figure size 360x360 with 1 Axes>"
      ]
     },
     "metadata": {
      "needs_background": "light"
     },
     "output_type": "display_data"
    }
   ],
   "source": [
    "sns.displot(dados['Al(tot)'], kde=True)"
   ]
  },
  {
   "cell_type": "code",
   "execution_count": 19,
   "id": "812fb446-fa3c-469a-8190-52dcc0d5b197",
   "metadata": {},
   "outputs": [
    {
     "data": {
      "text/plain": [
       "<seaborn.axisgrid.FacetGrid at 0x29a661975e0>"
      ]
     },
     "execution_count": 19,
     "metadata": {},
     "output_type": "execute_result"
    },
    {
     "data": {
      "image/png": "[encoded data removed]",
      "text/plain": [
       "<Figure size 360x360 with 1 Axes>"
      ]
     },
     "metadata": {
      "needs_background": "light"
     },
     "output_type": "display_data"
    }
   ],
   "source": [
    "sns.displot(dados['Mn(dis)'], kde=True)"
   ]
  },
  {
   "cell_type": "code",
   "execution_count": 20,
   "id": "ef50a765-2832-47ed-8269-a587f101227f",
   "metadata": {},
   "outputs": [
    {
     "data": {
      "text/plain": [
       "<seaborn.axisgrid.FacetGrid at 0x29a66fbaca0>"
      ]
     },
     "execution_count": 20,
     "metadata": {},
     "output_type": "execute_result"
    },
    {
     "data": {
      "image/png": "[encoded data removed]",
      "text/plain": [
       "<Figure size 360x360 with 1 Axes>"
      ]
     },
     "metadata": {
      "needs_background": "light"
     },
     "output_type": "display_data"
    }
   ],
   "source": [
    "sns.displot(dados['Mn(tot)'], kde=True)"
   ]
  },
  {
   "cell_type": "raw",
   "id": "8a9fde1d-66a0-4775-9193-a0d636d49403",
   "metadata": {},
   "source": [
    "# Transformando os dados\n",
    "const=.1\n",
    "dados['Fedis'] = np.log(dados['Fedis']+const)\n",
    "dados['Fetot'] = np.log(dados['Fetot']+const)\n",
    "dados['Aldis'] = np.log(dados['Aldis']+const)\n",
    "dados['Altot'] = np.log(dados['Altot']+const)\n",
    "dados['Mndis'] = np.log(dados['Mndis']+const)\n",
    "dados['Mntot'] = np.log(dados['Mntot']+const)\n",
    "dados"
   ]
  },
  {
   "cell_type": "code",
   "execution_count": 21,
   "id": "1d3a9e0c-a54e-4eee-992c-5725ab89d789",
   "metadata": {},
   "outputs": [
    {
     "data": {
      "text/plain": [
       "<AxesSubplot:title={'center':'Q-Q Plot'}, xlabel='Theoretical quantiles', ylabel='Ordered quantiles'>"
      ]
     },
     "execution_count": 21,
     "metadata": {},
     "output_type": "execute_result"
    },
    {
     "data": {
      "image/png": "[encoded data removed]",
      "text/plain": [
       "<Figure size 360x288 with 1 Axes>"
      ]
     },
     "metadata": {
      "needs_background": "light"
     },
     "output_type": "display_data"
    }
   ],
   "source": [
    "pg.qqplot(dados['Fe(dis)'])"
   ]
  },
  {
   "cell_type": "code",
   "execution_count": 22,
   "id": "987d98a0-cdb2-4465-86f3-aae0482c92cc",
   "metadata": {},
   "outputs": [],
   "source": [
    "#sns.displot(x='Fedis', hue='estacao', kde=True, data=dados)"
   ]
  },
  {
   "cell_type": "code",
   "execution_count": 23,
   "id": "c417e298-bff9-4183-8040-24b3432f6463",
   "metadata": {},
   "outputs": [
    {
     "data": {
      "text/plain": [
       "7.520926072508603e-36"
      ]
     },
     "execution_count": 23,
     "metadata": {},
     "output_type": "execute_result"
    }
   ],
   "source": [
    "# teste de normalidade\n",
    "dado_norm = dados['Fe(dis)']\n",
    "stats.shapiro(dado_norm).pvalue\n",
    "# se pvalue >0.05 os valores tem distribuição normal"
   ]
  },
  {
   "cell_type": "code",
   "execution_count": 24,
   "id": "be4421a9-9c99-41e0-907d-9f084bb39c34",
   "metadata": {},
   "outputs": [
    {
     "data": {
      "text/html": [
       "<div>\n",
       "<style scoped>\n",
       "    .dataframe tbody tr th:only-of-type {\n",
       "        vertical-align: middle;\n",
       "    }\n",
       "\n",
       "    .dataframe tbody tr th {\n",
       "        vertical-align: top;\n",
       "    }\n",
       "\n",
       "    .dataframe thead th {\n",
       "        text-align: right;\n",
       "    }\n",
       "</style>\n",
       "<table border=\"1\" class=\"dataframe\">\n",
       "  <thead>\n",
       "    <tr style=\"text-align: right;\">\n",
       "      <th></th>\n",
       "      <th>W</th>\n",
       "      <th>pval</th>\n",
       "      <th>normal</th>\n",
       "    </tr>\n",
       "  </thead>\n",
       "  <tbody>\n",
       "    <tr>\n",
       "      <th>Fe(dis)</th>\n",
       "      <td>0.587256</td>\n",
       "      <td>7.520926e-36</td>\n",
       "      <td>False</td>\n",
       "    </tr>\n",
       "    <tr>\n",
       "      <th>Fe(tot)</th>\n",
       "      <td>0.675342</td>\n",
       "      <td>9.368871e-33</td>\n",
       "      <td>False</td>\n",
       "    </tr>\n",
       "    <tr>\n",
       "      <th>P(dis)</th>\n",
       "      <td>0.906076</td>\n",
       "      <td>4.315269e-19</td>\n",
       "      <td>False</td>\n",
       "    </tr>\n",
       "    <tr>\n",
       "      <th>P(tot)</th>\n",
       "      <td>0.753824</td>\n",
       "      <td>2.281958e-29</td>\n",
       "      <td>False</td>\n",
       "    </tr>\n",
       "    <tr>\n",
       "      <th>Mn(dis)</th>\n",
       "      <td>0.333019</td>\n",
       "      <td>1.772643e-42</td>\n",
       "      <td>False</td>\n",
       "    </tr>\n",
       "    <tr>\n",
       "      <th>Mn(tot)</th>\n",
       "      <td>0.435860</td>\n",
       "      <td>4.242235e-40</td>\n",
       "      <td>False</td>\n",
       "    </tr>\n",
       "    <tr>\n",
       "      <th>pH</th>\n",
       "      <td>0.977359</td>\n",
       "      <td>3.356191e-08</td>\n",
       "      <td>False</td>\n",
       "    </tr>\n",
       "    <tr>\n",
       "      <th>T</th>\n",
       "      <td>0.968816</td>\n",
       "      <td>3.293306e-10</td>\n",
       "      <td>False</td>\n",
       "    </tr>\n",
       "    <tr>\n",
       "      <th>Turb</th>\n",
       "      <td>0.769383</td>\n",
       "      <td>1.345734e-28</td>\n",
       "      <td>False</td>\n",
       "    </tr>\n",
       "    <tr>\n",
       "      <th>Al(sed)</th>\n",
       "      <td>0.913775</td>\n",
       "      <td>2.713972e-18</td>\n",
       "      <td>False</td>\n",
       "    </tr>\n",
       "    <tr>\n",
       "      <th>As(sed)</th>\n",
       "      <td>0.984687</td>\n",
       "      <td>4.299652e-06</td>\n",
       "      <td>False</td>\n",
       "    </tr>\n",
       "    <tr>\n",
       "      <th>Pb(sed)</th>\n",
       "      <td>0.623102</td>\n",
       "      <td>1.161508e-34</td>\n",
       "      <td>False</td>\n",
       "    </tr>\n",
       "    <tr>\n",
       "      <th>Fe(sed)</th>\n",
       "      <td>0.865592</td>\n",
       "      <td>1.222684e-22</td>\n",
       "      <td>False</td>\n",
       "    </tr>\n",
       "    <tr>\n",
       "      <th>P(sed)</th>\n",
       "      <td>0.880932</td>\n",
       "      <td>2.105157e-21</td>\n",
       "      <td>False</td>\n",
       "    </tr>\n",
       "    <tr>\n",
       "      <th>Mn(sed)</th>\n",
       "      <td>0.689119</td>\n",
       "      <td>3.275062e-32</td>\n",
       "      <td>False</td>\n",
       "    </tr>\n",
       "    <tr>\n",
       "      <th>Clay</th>\n",
       "      <td>0.771695</td>\n",
       "      <td>1.765872e-28</td>\n",
       "      <td>False</td>\n",
       "    </tr>\n",
       "    <tr>\n",
       "      <th>Silt</th>\n",
       "      <td>0.925247</td>\n",
       "      <td>5.316953e-17</td>\n",
       "      <td>False</td>\n",
       "    </tr>\n",
       "    <tr>\n",
       "      <th>sandVF</th>\n",
       "      <td>0.922936</td>\n",
       "      <td>2.846956e-17</td>\n",
       "      <td>False</td>\n",
       "    </tr>\n",
       "    <tr>\n",
       "      <th>sandF</th>\n",
       "      <td>0.806915</td>\n",
       "      <td>1.482303e-26</td>\n",
       "      <td>False</td>\n",
       "    </tr>\n",
       "    <tr>\n",
       "      <th>sandM</th>\n",
       "      <td>0.661896</td>\n",
       "      <td>2.875320e-33</td>\n",
       "      <td>False</td>\n",
       "    </tr>\n",
       "    <tr>\n",
       "      <th>sandC</th>\n",
       "      <td>0.549191</td>\n",
       "      <td>5.034703e-37</td>\n",
       "      <td>False</td>\n",
       "    </tr>\n",
       "    <tr>\n",
       "      <th>sandVC</th>\n",
       "      <td>0.429898</td>\n",
       "      <td>3.022391e-40</td>\n",
       "      <td>False</td>\n",
       "    </tr>\n",
       "    <tr>\n",
       "      <th>Q</th>\n",
       "      <td>0.590907</td>\n",
       "      <td>9.850261e-36</td>\n",
       "      <td>False</td>\n",
       "    </tr>\n",
       "  </tbody>\n",
       "</table>\n",
       "</div>"
      ],
      "text/plain": [
       "                W          pval  normal\n",
       "Fe(dis)  0.587256  7.520926e-36   False\n",
       "Fe(tot)  0.675342  9.368871e-33   False\n",
       "P(dis)   0.906076  4.315269e-19   False\n",
       "P(tot)   0.753824  2.281958e-29   False\n",
       "Mn(dis)  0.333019  1.772643e-42   False\n",
       "Mn(tot)  0.435860  4.242235e-40   False\n",
       "pH       0.977359  3.356191e-08   False\n",
       "T        0.968816  3.293306e-10   False\n",
       "Turb     0.769383  1.345734e-28   False\n",
       "Al(sed)  0.913775  2.713972e-18   False\n",
       "As(sed)  0.984687  4.299652e-06   False\n",
       "Pb(sed)  0.623102  1.161508e-34   False\n",
       "Fe(sed)  0.865592  1.222684e-22   False\n",
       "P(sed)   0.880932  2.105157e-21   False\n",
       "Mn(sed)  0.689119  3.275062e-32   False\n",
       "Clay     0.771695  1.765872e-28   False\n",
       "Silt     0.925247  5.316953e-17   False\n",
       "sandVF   0.922936  2.846956e-17   False\n",
       "sandF    0.806915  1.482303e-26   False\n",
       "sandM    0.661896  2.875320e-33   False\n",
       "sandC    0.549191  5.034703e-37   False\n",
       "sandVC   0.429898  3.022391e-40   False\n",
       "Q        0.590907  9.850261e-36   False"
      ]
     },
     "execution_count": 24,
     "metadata": {},
     "output_type": "execute_result"
    }
   ],
   "source": [
    "pg.normality(dados.loc[:,'Fe(dis)':]) # se os dados forem normais ... TRUE"
   ]
  },
  {
   "cell_type": "code",
   "execution_count": 25,
   "id": "c5c80b24-051c-4af5-b6e8-670347b5df54",
   "metadata": {},
   "outputs": [
    {
     "data": {
      "text/plain": [
       "HZResults(hz=1.631127405014568, pval=0.0, normal=False)"
      ]
     },
     "execution_count": 25,
     "metadata": {},
     "output_type": "execute_result"
    }
   ],
   "source": [
    "pg.multivariate_normality(dados.loc[:,'Fe(dis)':]) # se os dados forem normais ... TRUE"
   ]
  },
  {
   "cell_type": "code",
   "execution_count": 26,
   "id": "1db111bf-0ba0-490a-95b9-b83e5aa64dfc",
   "metadata": {},
   "outputs": [
    {
     "data": {
      "text/plain": [
       "Index(['Distance', 'Station', 'Period', 'River type', 'Sector', 'Week',\n",
       "       'Month/Year', 'year', 'Al(dis)', 'Al(tot)', 'As(tot)', 'Pb(dis)',\n",
       "       'Pd(tot)', 'Fe(dis)', 'Fe(tot)', 'P(dis)', 'P(tot)', 'Mn(dis)',\n",
       "       'Mn(tot)', 'pH', 'T', 'Turb', 'Al(sed)', 'As(sed)', 'Pb(sed)',\n",
       "       'Fe(sed)', 'P(sed)', 'Mn(sed)', 'Clay', 'Silt', 'sandVF', 'sandF',\n",
       "       'sandM', 'sandC', 'sandVC', 'Q'],\n",
       "      dtype='object')"
      ]
     },
     "execution_count": 26,
     "metadata": {},
     "output_type": "execute_result"
    }
   ],
   "source": [
    "dados.columns"
   ]
  },
  {
   "cell_type": "markdown",
   "id": "9985207c-bfea-4607-a15f-7113a5f76340",
   "metadata": {},
   "source": [
    "modelo=ols(\"'Fe(dis)' ~ Station + Period +(Station*Period)\", data=dados, missing='drop').fit()\n",
    "tabela=sm.stats.anova_lm(modelo, typ=1)\n",
    "tabela"
   ]
  },
  {
   "cell_type": "code",
   "execution_count": 27,
   "id": "10501ce3-4142-42c3-b166-b30c71381e04",
   "metadata": {},
   "outputs": [
    {
     "data": {
      "text/html": [
       "<div>\n",
       "<style scoped>\n",
       "    .dataframe tbody tr th:only-of-type {\n",
       "        vertical-align: middle;\n",
       "    }\n",
       "\n",
       "    .dataframe tbody tr th {\n",
       "        vertical-align: top;\n",
       "    }\n",
       "\n",
       "    .dataframe thead tr th {\n",
       "        text-align: left;\n",
       "    }\n",
       "\n",
       "    .dataframe thead tr:last-of-type th {\n",
       "        text-align: right;\n",
       "    }\n",
       "</style>\n",
       "<table border=\"1\" class=\"dataframe\">\n",
       "  <thead>\n",
       "    <tr>\n",
       "      <th></th>\n",
       "      <th></th>\n",
       "      <th colspan=\"8\" halign=\"left\">Distance</th>\n",
       "      <th colspan=\"2\" halign=\"left\">Week</th>\n",
       "      <th>...</th>\n",
       "      <th colspan=\"2\" halign=\"left\">sandVC</th>\n",
       "      <th colspan=\"8\" halign=\"left\">Q</th>\n",
       "    </tr>\n",
       "    <tr>\n",
       "      <th></th>\n",
       "      <th></th>\n",
       "      <th>count</th>\n",
       "      <th>mean</th>\n",
       "      <th>std</th>\n",
       "      <th>min</th>\n",
       "      <th>25%</th>\n",
       "      <th>50%</th>\n",
       "      <th>75%</th>\n",
       "      <th>max</th>\n",
       "      <th>count</th>\n",
       "      <th>mean</th>\n",
       "      <th>...</th>\n",
       "      <th>75%</th>\n",
       "      <th>max</th>\n",
       "      <th>count</th>\n",
       "      <th>mean</th>\n",
       "      <th>std</th>\n",
       "      <th>min</th>\n",
       "      <th>25%</th>\n",
       "      <th>50%</th>\n",
       "      <th>75%</th>\n",
       "      <th>max</th>\n",
       "    </tr>\n",
       "    <tr>\n",
       "      <th>Station</th>\n",
       "      <th>Period</th>\n",
       "      <th></th>\n",
       "      <th></th>\n",
       "      <th></th>\n",
       "      <th></th>\n",
       "      <th></th>\n",
       "      <th></th>\n",
       "      <th></th>\n",
       "      <th></th>\n",
       "      <th></th>\n",
       "      <th></th>\n",
       "      <th></th>\n",
       "      <th></th>\n",
       "      <th></th>\n",
       "      <th></th>\n",
       "      <th></th>\n",
       "      <th></th>\n",
       "      <th></th>\n",
       "      <th></th>\n",
       "      <th></th>\n",
       "      <th></th>\n",
       "      <th></th>\n",
       "    </tr>\n",
       "  </thead>\n",
       "  <tbody>\n",
       "    <tr>\n",
       "      <th rowspan=\"2\" valign=\"top\">PT-13</th>\n",
       "      <th>Dry Period</th>\n",
       "      <td>79.0</td>\n",
       "      <td>8.8</td>\n",
       "      <td>7.150830e-15</td>\n",
       "      <td>8.8</td>\n",
       "      <td>8.8</td>\n",
       "      <td>8.8</td>\n",
       "      <td>8.8</td>\n",
       "      <td>8.8</td>\n",
       "      <td>79.0</td>\n",
       "      <td>80.000000</td>\n",
       "      <td>...</td>\n",
       "      <td>36.000000</td>\n",
       "      <td>859.0</td>\n",
       "      <td>79.0</td>\n",
       "      <td>25.836529</td>\n",
       "      <td>14.087079</td>\n",
       "      <td>10.615627</td>\n",
       "      <td>16.240473</td>\n",
       "      <td>22.189911</td>\n",
       "      <td>30.500432</td>\n",
       "      <td>90.400595</td>\n",
       "    </tr>\n",
       "    <tr>\n",
       "      <th>Rainy Period</th>\n",
       "      <td>76.0</td>\n",
       "      <td>8.8</td>\n",
       "      <td>5.364480e-15</td>\n",
       "      <td>8.8</td>\n",
       "      <td>8.8</td>\n",
       "      <td>8.8</td>\n",
       "      <td>8.8</td>\n",
       "      <td>8.8</td>\n",
       "      <td>76.0</td>\n",
       "      <td>84.078947</td>\n",
       "      <td>...</td>\n",
       "      <td>10.189375</td>\n",
       "      <td>708.0</td>\n",
       "      <td>76.0</td>\n",
       "      <td>79.124885</td>\n",
       "      <td>51.643177</td>\n",
       "      <td>14.023304</td>\n",
       "      <td>43.047468</td>\n",
       "      <td>66.847652</td>\n",
       "      <td>106.179531</td>\n",
       "      <td>286.379196</td>\n",
       "    </tr>\n",
       "    <tr>\n",
       "      <th rowspan=\"2\" valign=\"top\">PT-14</th>\n",
       "      <th>Dry Period</th>\n",
       "      <td>79.0</td>\n",
       "      <td>53.9</td>\n",
       "      <td>4.290498e-14</td>\n",
       "      <td>53.9</td>\n",
       "      <td>53.9</td>\n",
       "      <td>53.9</td>\n",
       "      <td>53.9</td>\n",
       "      <td>53.9</td>\n",
       "      <td>79.0</td>\n",
       "      <td>80.000000</td>\n",
       "      <td>...</td>\n",
       "      <td>0.000000</td>\n",
       "      <td>718.0</td>\n",
       "      <td>79.0</td>\n",
       "      <td>25.836529</td>\n",
       "      <td>14.087079</td>\n",
       "      <td>10.615627</td>\n",
       "      <td>16.240473</td>\n",
       "      <td>22.189911</td>\n",
       "      <td>30.500432</td>\n",
       "      <td>90.400595</td>\n",
       "    </tr>\n",
       "    <tr>\n",
       "      <th>Rainy Period</th>\n",
       "      <td>78.0</td>\n",
       "      <td>53.9</td>\n",
       "      <td>4.290851e-14</td>\n",
       "      <td>53.9</td>\n",
       "      <td>53.9</td>\n",
       "      <td>53.9</td>\n",
       "      <td>53.9</td>\n",
       "      <td>53.9</td>\n",
       "      <td>78.0</td>\n",
       "      <td>86.038462</td>\n",
       "      <td>...</td>\n",
       "      <td>0.000000</td>\n",
       "      <td>251.0</td>\n",
       "      <td>78.0</td>\n",
       "      <td>89.557674</td>\n",
       "      <td>89.872587</td>\n",
       "      <td>14.023304</td>\n",
       "      <td>43.637388</td>\n",
       "      <td>68.737842</td>\n",
       "      <td>108.918337</td>\n",
       "      <td>714.981235</td>\n",
       "    </tr>\n",
       "    <tr>\n",
       "      <th rowspan=\"2\" valign=\"top\">PT-19</th>\n",
       "      <th>Dry Period</th>\n",
       "      <td>79.0</td>\n",
       "      <td>249.8</td>\n",
       "      <td>3.718432e-13</td>\n",
       "      <td>249.8</td>\n",
       "      <td>249.8</td>\n",
       "      <td>249.8</td>\n",
       "      <td>249.8</td>\n",
       "      <td>249.8</td>\n",
       "      <td>79.0</td>\n",
       "      <td>80.000000</td>\n",
       "      <td>...</td>\n",
       "      <td>187.125000</td>\n",
       "      <td>508.0</td>\n",
       "      <td>79.0</td>\n",
       "      <td>25.836529</td>\n",
       "      <td>14.087079</td>\n",
       "      <td>10.615627</td>\n",
       "      <td>16.240473</td>\n",
       "      <td>22.189911</td>\n",
       "      <td>30.500432</td>\n",
       "      <td>90.400595</td>\n",
       "    </tr>\n",
       "    <tr>\n",
       "      <th>Rainy Period</th>\n",
       "      <td>75.0</td>\n",
       "      <td>249.8</td>\n",
       "      <td>3.433572e-13</td>\n",
       "      <td>249.8</td>\n",
       "      <td>249.8</td>\n",
       "      <td>249.8</td>\n",
       "      <td>249.8</td>\n",
       "      <td>249.8</td>\n",
       "      <td>75.0</td>\n",
       "      <td>81.026667</td>\n",
       "      <td>...</td>\n",
       "      <td>8.750000</td>\n",
       "      <td>364.0</td>\n",
       "      <td>75.0</td>\n",
       "      <td>94.661413</td>\n",
       "      <td>90.243268</td>\n",
       "      <td>14.023304</td>\n",
       "      <td>43.711116</td>\n",
       "      <td>68.814092</td>\n",
       "      <td>112.280923</td>\n",
       "      <td>574.858988</td>\n",
       "    </tr>\n",
       "    <tr>\n",
       "      <th rowspan=\"2\" valign=\"top\">PT-52</th>\n",
       "      <th>Dry Period</th>\n",
       "      <td>76.0</td>\n",
       "      <td>-19.2</td>\n",
       "      <td>2.861056e-14</td>\n",
       "      <td>-19.2</td>\n",
       "      <td>-19.2</td>\n",
       "      <td>-19.2</td>\n",
       "      <td>-19.2</td>\n",
       "      <td>-19.2</td>\n",
       "      <td>76.0</td>\n",
       "      <td>77.434211</td>\n",
       "      <td>...</td>\n",
       "      <td>6.000000</td>\n",
       "      <td>376.0</td>\n",
       "      <td>76.0</td>\n",
       "      <td>25.916442</td>\n",
       "      <td>13.971301</td>\n",
       "      <td>10.615627</td>\n",
       "      <td>16.403181</td>\n",
       "      <td>22.305424</td>\n",
       "      <td>30.234219</td>\n",
       "      <td>90.400595</td>\n",
       "    </tr>\n",
       "    <tr>\n",
       "      <th>Rainy Period</th>\n",
       "      <td>78.0</td>\n",
       "      <td>-19.2</td>\n",
       "      <td>2.860567e-14</td>\n",
       "      <td>-19.2</td>\n",
       "      <td>-19.2</td>\n",
       "      <td>-19.2</td>\n",
       "      <td>-19.2</td>\n",
       "      <td>-19.2</td>\n",
       "      <td>78.0</td>\n",
       "      <td>94.089744</td>\n",
       "      <td>...</td>\n",
       "      <td>0.916667</td>\n",
       "      <td>538.0</td>\n",
       "      <td>78.0</td>\n",
       "      <td>94.347179</td>\n",
       "      <td>89.806343</td>\n",
       "      <td>14.023304</td>\n",
       "      <td>47.604873</td>\n",
       "      <td>75.665051</td>\n",
       "      <td>113.950238</td>\n",
       "      <td>714.981235</td>\n",
       "    </tr>\n",
       "  </tbody>\n",
       "</table>\n",
       "<p>8 rows × 248 columns</p>\n",
       "</div>"
      ],
      "text/plain": [
       "                     Distance                                            \\\n",
       "                        count   mean           std    min    25%    50%   \n",
       "Station Period                                                            \n",
       "PT-13   Dry Period       79.0    8.8  7.150830e-15    8.8    8.8    8.8   \n",
       "        Rainy Period     76.0    8.8  5.364480e-15    8.8    8.8    8.8   \n",
       "PT-14   Dry Period       79.0   53.9  4.290498e-14   53.9   53.9   53.9   \n",
       "        Rainy Period     78.0   53.9  4.290851e-14   53.9   53.9   53.9   \n",
       "PT-19   Dry Period       79.0  249.8  3.718432e-13  249.8  249.8  249.8   \n",
       "        Rainy Period     75.0  249.8  3.433572e-13  249.8  249.8  249.8   \n",
       "PT-52   Dry Period       76.0  -19.2  2.861056e-14  -19.2  -19.2  -19.2   \n",
       "        Rainy Period     78.0  -19.2  2.860567e-14  -19.2  -19.2  -19.2   \n",
       "\n",
       "                                    Week             ...      sandVC         \\\n",
       "                        75%    max count       mean  ...         75%    max   \n",
       "Station Period                                       ...                      \n",
       "PT-13   Dry Period      8.8    8.8  79.0  80.000000  ...   36.000000  859.0   \n",
       "        Rainy Period    8.8    8.8  76.0  84.078947  ...   10.189375  708.0   \n",
       "PT-14   Dry Period     53.9   53.9  79.0  80.000000  ...    0.000000  718.0   \n",
       "        Rainy Period   53.9   53.9  78.0  86.038462  ...    0.000000  251.0   \n",
       "PT-19   Dry Period    249.8  249.8  79.0  80.000000  ...  187.125000  508.0   \n",
       "        Rainy Period  249.8  249.8  75.0  81.026667  ...    8.750000  364.0   \n",
       "PT-52   Dry Period    -19.2  -19.2  76.0  77.434211  ...    6.000000  376.0   \n",
       "        Rainy Period  -19.2  -19.2  78.0  94.089744  ...    0.916667  538.0   \n",
       "\n",
       "                         Q                                              \\\n",
       "                     count       mean        std        min        25%   \n",
       "Station Period                                                           \n",
       "PT-13   Dry Period    79.0  25.836529  14.087079  10.615627  16.240473   \n",
       "        Rainy Period  76.0  79.124885  51.643177  14.023304  43.047468   \n",
       "PT-14   Dry Period    79.0  25.836529  14.087079  10.615627  16.240473   \n",
       "        Rainy Period  78.0  89.557674  89.872587  14.023304  43.637388   \n",
       "PT-19   Dry Period    79.0  25.836529  14.087079  10.615627  16.240473   \n",
       "        Rainy Period  75.0  94.661413  90.243268  14.023304  43.711116   \n",
       "PT-52   Dry Period    76.0  25.916442  13.971301  10.615627  16.403181   \n",
       "        Rainy Period  78.0  94.347179  89.806343  14.023304  47.604873   \n",
       "\n",
       "                                                         \n",
       "                            50%         75%         max  \n",
       "Station Period                                           \n",
       "PT-13   Dry Period    22.189911   30.500432   90.400595  \n",
       "        Rainy Period  66.847652  106.179531  286.379196  \n",
       "PT-14   Dry Period    22.189911   30.500432   90.400595  \n",
       "        Rainy Period  68.737842  108.918337  714.981235  \n",
       "PT-19   Dry Period    22.189911   30.500432   90.400595  \n",
       "        Rainy Period  68.814092  112.280923  574.858988  \n",
       "PT-52   Dry Period    22.305424   30.234219   90.400595  \n",
       "        Rainy Period  75.665051  113.950238  714.981235  \n",
       "\n",
       "[8 rows x 248 columns]"
      ]
     },
     "execution_count": 27,
     "metadata": {},
     "output_type": "execute_result"
    }
   ],
   "source": [
    "dados.groupby(['Station','Period']).describe()"
   ]
  },
  {
   "cell_type": "code",
   "execution_count": 28,
   "id": "fcebe19d-f11f-41ce-96cf-3fcc8aba59bc",
   "metadata": {},
   "outputs": [
    {
     "data": {
      "text/html": [
       "<div>\n",
       "<style scoped>\n",
       "    .dataframe tbody tr th:only-of-type {\n",
       "        vertical-align: middle;\n",
       "    }\n",
       "\n",
       "    .dataframe tbody tr th {\n",
       "        vertical-align: top;\n",
       "    }\n",
       "\n",
       "    .dataframe thead th {\n",
       "        text-align: right;\n",
       "    }\n",
       "</style>\n",
       "<table border=\"1\" class=\"dataframe\">\n",
       "  <thead>\n",
       "    <tr style=\"text-align: right;\">\n",
       "      <th></th>\n",
       "      <th>Distance</th>\n",
       "      <th>Station</th>\n",
       "      <th>Period</th>\n",
       "      <th>River type</th>\n",
       "      <th>Sector</th>\n",
       "      <th>Week</th>\n",
       "      <th>Month/Year</th>\n",
       "      <th>year</th>\n",
       "      <th>Al(dis)</th>\n",
       "      <th>Al(tot)</th>\n",
       "      <th>...</th>\n",
       "      <th>P(sed)</th>\n",
       "      <th>Mn(sed)</th>\n",
       "      <th>Clay</th>\n",
       "      <th>Silt</th>\n",
       "      <th>sandVF</th>\n",
       "      <th>sandF</th>\n",
       "      <th>sandM</th>\n",
       "      <th>sandC</th>\n",
       "      <th>sandVC</th>\n",
       "      <th>Q</th>\n",
       "    </tr>\n",
       "  </thead>\n",
       "  <tbody>\n",
       "    <tr>\n",
       "      <th>0</th>\n",
       "      <td>-19.2</td>\n",
       "      <td>PT-52</td>\n",
       "      <td>Dry Period</td>\n",
       "      <td>Principal</td>\n",
       "      <td>PT-52</td>\n",
       "      <td>14</td>\n",
       "      <td>2019-04-03 00:00:00</td>\n",
       "      <td>2019</td>\n",
       "      <td>0.041871</td>\n",
       "      <td>1.069429</td>\n",
       "      <td>...</td>\n",
       "      <td>198.000000</td>\n",
       "      <td>395.000000</td>\n",
       "      <td>0.000000</td>\n",
       "      <td>93.000000</td>\n",
       "      <td>97.000000</td>\n",
       "      <td>237.000000</td>\n",
       "      <td>362.0</td>\n",
       "      <td>199.0</td>\n",
       "      <td>12.0</td>\n",
       "      <td>32.360000</td>\n",
       "    </tr>\n",
       "    <tr>\n",
       "      <th>1</th>\n",
       "      <td>-19.2</td>\n",
       "      <td>PT-52</td>\n",
       "      <td>Dry Period</td>\n",
       "      <td>Principal</td>\n",
       "      <td>PT-52</td>\n",
       "      <td>15</td>\n",
       "      <td>2019-04-10 00:00:00</td>\n",
       "      <td>2019</td>\n",
       "      <td>0.123471</td>\n",
       "      <td>1.408143</td>\n",
       "      <td>...</td>\n",
       "      <td>99.400000</td>\n",
       "      <td>436.000000</td>\n",
       "      <td>0.000000</td>\n",
       "      <td>101.000000</td>\n",
       "      <td>81.000000</td>\n",
       "      <td>242.000000</td>\n",
       "      <td>353.0</td>\n",
       "      <td>206.0</td>\n",
       "      <td>17.0</td>\n",
       "      <td>37.270000</td>\n",
       "    </tr>\n",
       "    <tr>\n",
       "      <th>2</th>\n",
       "      <td>-19.2</td>\n",
       "      <td>PT-52</td>\n",
       "      <td>Dry Period</td>\n",
       "      <td>Principal</td>\n",
       "      <td>PT-52</td>\n",
       "      <td>16</td>\n",
       "      <td>2019-04-17 00:00:00</td>\n",
       "      <td>2019</td>\n",
       "      <td>0.079400</td>\n",
       "      <td>2.120429</td>\n",
       "      <td>...</td>\n",
       "      <td>666.000000</td>\n",
       "      <td>2290.000000</td>\n",
       "      <td>40.000000</td>\n",
       "      <td>766.000000</td>\n",
       "      <td>122.000000</td>\n",
       "      <td>63.000000</td>\n",
       "      <td>9.0</td>\n",
       "      <td>0.0</td>\n",
       "      <td>0.0</td>\n",
       "      <td>46.154000</td>\n",
       "    </tr>\n",
       "    <tr>\n",
       "      <th>3</th>\n",
       "      <td>-19.2</td>\n",
       "      <td>PT-52</td>\n",
       "      <td>Dry Period</td>\n",
       "      <td>Principal</td>\n",
       "      <td>PT-52</td>\n",
       "      <td>17</td>\n",
       "      <td>2019-04-24 00:00:00</td>\n",
       "      <td>2019</td>\n",
       "      <td>0.057929</td>\n",
       "      <td>0.914714</td>\n",
       "      <td>...</td>\n",
       "      <td>398.000000</td>\n",
       "      <td>1240.000000</td>\n",
       "      <td>32.000000</td>\n",
       "      <td>638.000000</td>\n",
       "      <td>188.000000</td>\n",
       "      <td>124.000000</td>\n",
       "      <td>18.0</td>\n",
       "      <td>0.0</td>\n",
       "      <td>0.0</td>\n",
       "      <td>31.032857</td>\n",
       "    </tr>\n",
       "    <tr>\n",
       "      <th>4</th>\n",
       "      <td>-19.2</td>\n",
       "      <td>PT-52</td>\n",
       "      <td>Dry Period</td>\n",
       "      <td>Principal</td>\n",
       "      <td>PT-52</td>\n",
       "      <td>18</td>\n",
       "      <td>2019-05-01 00:00:00</td>\n",
       "      <td>2019</td>\n",
       "      <td>0.053586</td>\n",
       "      <td>0.519857</td>\n",
       "      <td>...</td>\n",
       "      <td>241.000000</td>\n",
       "      <td>824.000000</td>\n",
       "      <td>21.000000</td>\n",
       "      <td>416.000000</td>\n",
       "      <td>179.000000</td>\n",
       "      <td>156.000000</td>\n",
       "      <td>62.0</td>\n",
       "      <td>65.0</td>\n",
       "      <td>101.0</td>\n",
       "      <td>27.748571</td>\n",
       "    </tr>\n",
       "    <tr>\n",
       "      <th>...</th>\n",
       "      <td>...</td>\n",
       "      <td>...</td>\n",
       "      <td>...</td>\n",
       "      <td>...</td>\n",
       "      <td>...</td>\n",
       "      <td>...</td>\n",
       "      <td>...</td>\n",
       "      <td>...</td>\n",
       "      <td>...</td>\n",
       "      <td>...</td>\n",
       "      <td>...</td>\n",
       "      <td>...</td>\n",
       "      <td>...</td>\n",
       "      <td>...</td>\n",
       "      <td>...</td>\n",
       "      <td>...</td>\n",
       "      <td>...</td>\n",
       "      <td>...</td>\n",
       "      <td>...</td>\n",
       "      <td>...</td>\n",
       "      <td>...</td>\n",
       "    </tr>\n",
       "    <tr>\n",
       "      <th>386</th>\n",
       "      <td>-19.2</td>\n",
       "      <td>PT-52</td>\n",
       "      <td>Rainy Period</td>\n",
       "      <td>Principal</td>\n",
       "      <td>PT-52</td>\n",
       "      <td>161</td>\n",
       "      <td>2022-01-05 00:00:00</td>\n",
       "      <td>2022</td>\n",
       "      <td>0.478571</td>\n",
       "      <td>5.325714</td>\n",
       "      <td>...</td>\n",
       "      <td>323.666667</td>\n",
       "      <td>1740.333333</td>\n",
       "      <td>84.666667</td>\n",
       "      <td>696.333333</td>\n",
       "      <td>202.333333</td>\n",
       "      <td>16.666667</td>\n",
       "      <td>0.0</td>\n",
       "      <td>0.0</td>\n",
       "      <td>0.0</td>\n",
       "      <td>714.981235</td>\n",
       "    </tr>\n",
       "    <tr>\n",
       "      <th>387</th>\n",
       "      <td>-19.2</td>\n",
       "      <td>PT-52</td>\n",
       "      <td>Rainy Period</td>\n",
       "      <td>Principal</td>\n",
       "      <td>PT-52</td>\n",
       "      <td>162</td>\n",
       "      <td>2022-01-01 00:00:00</td>\n",
       "      <td>2022</td>\n",
       "      <td>0.666000</td>\n",
       "      <td>10.084000</td>\n",
       "      <td>...</td>\n",
       "      <td>310.000000</td>\n",
       "      <td>1696.500000</td>\n",
       "      <td>81.500000</td>\n",
       "      <td>698.000000</td>\n",
       "      <td>205.000000</td>\n",
       "      <td>15.500000</td>\n",
       "      <td>0.0</td>\n",
       "      <td>0.0</td>\n",
       "      <td>0.0</td>\n",
       "      <td>192.690104</td>\n",
       "    </tr>\n",
       "    <tr>\n",
       "      <th>388</th>\n",
       "      <td>-19.2</td>\n",
       "      <td>PT-52</td>\n",
       "      <td>Rainy Period</td>\n",
       "      <td>Principal</td>\n",
       "      <td>PT-52</td>\n",
       "      <td>163</td>\n",
       "      <td>2022-01-05 00:00:00</td>\n",
       "      <td>2022</td>\n",
       "      <td>0.415714</td>\n",
       "      <td>5.260000</td>\n",
       "      <td>...</td>\n",
       "      <td>296.333333</td>\n",
       "      <td>1652.666667</td>\n",
       "      <td>78.333333</td>\n",
       "      <td>699.666667</td>\n",
       "      <td>207.666667</td>\n",
       "      <td>14.333333</td>\n",
       "      <td>0.0</td>\n",
       "      <td>0.0</td>\n",
       "      <td>0.0</td>\n",
       "      <td>115.030521</td>\n",
       "    </tr>\n",
       "    <tr>\n",
       "      <th>389</th>\n",
       "      <td>-19.2</td>\n",
       "      <td>PT-52</td>\n",
       "      <td>Rainy Period</td>\n",
       "      <td>Principal</td>\n",
       "      <td>PT-52</td>\n",
       "      <td>164</td>\n",
       "      <td>2022-01-29 00:00:00</td>\n",
       "      <td>2022</td>\n",
       "      <td>0.152857</td>\n",
       "      <td>2.181429</td>\n",
       "      <td>...</td>\n",
       "      <td>282.666667</td>\n",
       "      <td>1608.833333</td>\n",
       "      <td>75.166667</td>\n",
       "      <td>701.333333</td>\n",
       "      <td>210.333333</td>\n",
       "      <td>13.166667</td>\n",
       "      <td>0.0</td>\n",
       "      <td>0.0</td>\n",
       "      <td>0.0</td>\n",
       "      <td>130.308494</td>\n",
       "    </tr>\n",
       "    <tr>\n",
       "      <th>390</th>\n",
       "      <td>-19.2</td>\n",
       "      <td>PT-52</td>\n",
       "      <td>Rainy Period</td>\n",
       "      <td>Principal</td>\n",
       "      <td>PT-52</td>\n",
       "      <td>165</td>\n",
       "      <td>2022-02-02 12:00:00</td>\n",
       "      <td>2022</td>\n",
       "      <td>0.305714</td>\n",
       "      <td>4.392857</td>\n",
       "      <td>...</td>\n",
       "      <td>269.000000</td>\n",
       "      <td>1565.000000</td>\n",
       "      <td>72.000000</td>\n",
       "      <td>703.000000</td>\n",
       "      <td>213.000000</td>\n",
       "      <td>12.000000</td>\n",
       "      <td>0.0</td>\n",
       "      <td>0.0</td>\n",
       "      <td>0.0</td>\n",
       "      <td>107.120795</td>\n",
       "    </tr>\n",
       "  </tbody>\n",
       "</table>\n",
       "<p>154 rows × 36 columns</p>\n",
       "</div>"
      ],
      "text/plain": [
       "     Distance Station        Period River type Sector  Week  \\\n",
       "0       -19.2   PT-52    Dry Period  Principal  PT-52    14   \n",
       "1       -19.2   PT-52    Dry Period  Principal  PT-52    15   \n",
       "2       -19.2   PT-52    Dry Period  Principal  PT-52    16   \n",
       "3       -19.2   PT-52    Dry Period  Principal  PT-52    17   \n",
       "4       -19.2   PT-52    Dry Period  Principal  PT-52    18   \n",
       "..        ...     ...           ...        ...    ...   ...   \n",
       "386     -19.2   PT-52  Rainy Period  Principal  PT-52   161   \n",
       "387     -19.2   PT-52  Rainy Period  Principal  PT-52   162   \n",
       "388     -19.2   PT-52  Rainy Period  Principal  PT-52   163   \n",
       "389     -19.2   PT-52  Rainy Period  Principal  PT-52   164   \n",
       "390     -19.2   PT-52  Rainy Period  Principal  PT-52   165   \n",
       "\n",
       "             Month/Year  year   Al(dis)    Al(tot)  ...      P(sed)  \\\n",
       "0   2019-04-03 00:00:00  2019  0.041871   1.069429  ...  198.000000   \n",
       "1   2019-04-10 00:00:00  2019  0.123471   1.408143  ...   99.400000   \n",
       "2   2019-04-17 00:00:00  2019  0.079400   2.120429  ...  666.000000   \n",
       "3   2019-04-24 00:00:00  2019  0.057929   0.914714  ...  398.000000   \n",
       "4   2019-05-01 00:00:00  2019  0.053586   0.519857  ...  241.000000   \n",
       "..                  ...   ...       ...        ...  ...         ...   \n",
       "386 2022-01-05 00:00:00  2022  0.478571   5.325714  ...  323.666667   \n",
       "387 2022-01-01 00:00:00  2022  0.666000  10.084000  ...  310.000000   \n",
       "388 2022-01-05 00:00:00  2022  0.415714   5.260000  ...  296.333333   \n",
       "389 2022-01-29 00:00:00  2022  0.152857   2.181429  ...  282.666667   \n",
       "390 2022-02-02 12:00:00  2022  0.305714   4.392857  ...  269.000000   \n",
       "\n",
       "         Mn(sed)       Clay        Silt      sandVF       sandF  sandM  sandC  \\\n",
       "0     395.000000   0.000000   93.000000   97.000000  237.000000  362.0  199.0   \n",
       "1     436.000000   0.000000  101.000000   81.000000  242.000000  353.0  206.0   \n",
       "2    2290.000000  40.000000  766.000000  122.000000   63.000000    9.0    0.0   \n",
       "3    1240.000000  32.000000  638.000000  188.000000  124.000000   18.0    0.0   \n",
       "4     824.000000  21.000000  416.000000  179.000000  156.000000   62.0   65.0   \n",
       "..           ...        ...         ...         ...         ...    ...    ...   \n",
       "386  1740.333333  84.666667  696.333333  202.333333   16.666667    0.0    0.0   \n",
       "387  1696.500000  81.500000  698.000000  205.000000   15.500000    0.0    0.0   \n",
       "388  1652.666667  78.333333  699.666667  207.666667   14.333333    0.0    0.0   \n",
       "389  1608.833333  75.166667  701.333333  210.333333   13.166667    0.0    0.0   \n",
       "390  1565.000000  72.000000  703.000000  213.000000   12.000000    0.0    0.0   \n",
       "\n",
       "     sandVC           Q  \n",
       "0      12.0   32.360000  \n",
       "1      17.0   37.270000  \n",
       "2       0.0   46.154000  \n",
       "3       0.0   31.032857  \n",
       "4     101.0   27.748571  \n",
       "..      ...         ...  \n",
       "386     0.0  714.981235  \n",
       "387     0.0  192.690104  \n",
       "388     0.0  115.030521  \n",
       "389     0.0  130.308494  \n",
       "390     0.0  107.120795  \n",
       "\n",
       "[154 rows x 36 columns]"
      ]
     },
     "execution_count": 28,
     "metadata": {},
     "output_type": "execute_result"
    }
   ],
   "source": [
    "dados.query('Station == \"PT-52\"')"
   ]
  },
  {
   "cell_type": "code",
   "execution_count": 29,
   "id": "486822e2-0c35-4bd7-82c3-b401b945e9a7",
   "metadata": {},
   "outputs": [],
   "source": [
    "#dados.query(('Station == \"PT-52\"') and ('epoca == \"Rainy Season\"')).pairwise_tukey(dv='Fedis', between='epoca').round(3)"
   ]
  },
  {
   "cell_type": "code",
   "execution_count": 30,
   "id": "d1437467-09c2-4c11-80c5-558301c62a29",
   "metadata": {},
   "outputs": [
    {
     "data": {
      "text/html": [
       "<div>\n",
       "<style scoped>\n",
       "    .dataframe tbody tr th:only-of-type {\n",
       "        vertical-align: middle;\n",
       "    }\n",
       "\n",
       "    .dataframe tbody tr th {\n",
       "        vertical-align: top;\n",
       "    }\n",
       "\n",
       "    .dataframe thead th {\n",
       "        text-align: right;\n",
       "    }\n",
       "</style>\n",
       "<table border=\"1\" class=\"dataframe\">\n",
       "  <thead>\n",
       "    <tr style=\"text-align: right;\">\n",
       "      <th></th>\n",
       "      <th>A</th>\n",
       "      <th>B</th>\n",
       "      <th>mean(A)</th>\n",
       "      <th>mean(B)</th>\n",
       "      <th>diff</th>\n",
       "      <th>se</th>\n",
       "      <th>T</th>\n",
       "      <th>p-tukey</th>\n",
       "      <th>hedges</th>\n",
       "    </tr>\n",
       "  </thead>\n",
       "  <tbody>\n",
       "    <tr>\n",
       "      <th>0</th>\n",
       "      <td>Dry Period</td>\n",
       "      <td>Rainy Period</td>\n",
       "      <td>1.315</td>\n",
       "      <td>6.772</td>\n",
       "      <td>-5.457</td>\n",
       "      <td>0.44</td>\n",
       "      <td>-12.405</td>\n",
       "      <td>0.0</td>\n",
       "      <td>-1.989</td>\n",
       "    </tr>\n",
       "  </tbody>\n",
       "</table>\n",
       "</div>"
      ],
      "text/plain": [
       "            A             B  mean(A)  mean(B)   diff    se       T  p-tukey  \\\n",
       "0  Dry Period  Rainy Period    1.315    6.772 -5.457  0.44 -12.405      0.0   \n",
       "\n",
       "   hedges  \n",
       "0  -1.989  "
      ]
     },
     "execution_count": 30,
     "metadata": {},
     "output_type": "execute_result"
    }
   ],
   "source": [
    "dados.query('Station == \"PT-52\"').pairwise_tukey(dv='Fe(tot)', between='Period').round(3)"
   ]
  },
  {
   "cell_type": "code",
   "execution_count": 31,
   "id": "e865771f-9602-40c8-b487-1567e0b30f2a",
   "metadata": {},
   "outputs": [
    {
     "data": {
      "text/html": [
       "<div>\n",
       "<style scoped>\n",
       "    .dataframe tbody tr th:only-of-type {\n",
       "        vertical-align: middle;\n",
       "    }\n",
       "\n",
       "    .dataframe tbody tr th {\n",
       "        vertical-align: top;\n",
       "    }\n",
       "\n",
       "    .dataframe thead th {\n",
       "        text-align: right;\n",
       "    }\n",
       "</style>\n",
       "<table border=\"1\" class=\"dataframe\">\n",
       "  <thead>\n",
       "    <tr style=\"text-align: right;\">\n",
       "      <th></th>\n",
       "      <th>A</th>\n",
       "      <th>B</th>\n",
       "      <th>mean(A)</th>\n",
       "      <th>mean(B)</th>\n",
       "      <th>diff</th>\n",
       "      <th>se</th>\n",
       "      <th>T</th>\n",
       "      <th>p-tukey</th>\n",
       "      <th>hedges</th>\n",
       "    </tr>\n",
       "  </thead>\n",
       "  <tbody>\n",
       "    <tr>\n",
       "      <th>0</th>\n",
       "      <td>Dry Period</td>\n",
       "      <td>Rainy Period</td>\n",
       "      <td>0.017</td>\n",
       "      <td>0.026</td>\n",
       "      <td>-0.008</td>\n",
       "      <td>0.002</td>\n",
       "      <td>-4.356</td>\n",
       "      <td>0.0</td>\n",
       "      <td>-0.699</td>\n",
       "    </tr>\n",
       "  </tbody>\n",
       "</table>\n",
       "</div>"
      ],
      "text/plain": [
       "            A             B  mean(A)  mean(B)   diff     se      T  p-tukey  \\\n",
       "0  Dry Period  Rainy Period    0.017    0.026 -0.008  0.002 -4.356      0.0   \n",
       "\n",
       "   hedges  \n",
       "0  -0.699  "
      ]
     },
     "execution_count": 31,
     "metadata": {},
     "output_type": "execute_result"
    }
   ],
   "source": [
    "dados.query('Station == \"PT-52\"').pairwise_tukey(dv='Mn(dis)', between='Period').round(3)"
   ]
  },
  {
   "cell_type": "code",
   "execution_count": 32,
   "id": "c587bf85-3ba7-473d-a8fd-c08ed6de54d0",
   "metadata": {},
   "outputs": [],
   "source": [
    "# tudo diferente ..."
   ]
  },
  {
   "cell_type": "code",
   "execution_count": 33,
   "id": "b6872fd2-55ba-491b-be13-abc78dff347f",
   "metadata": {},
   "outputs": [],
   "source": [
    "#from ipynb.fs.full.gasph_letras import letras"
   ]
  },
  {
   "cell_type": "code",
   "execution_count": 34,
   "id": "c0204f9d-e851-4683-a5ae-23245503c57d",
   "metadata": {},
   "outputs": [
    {
     "ename": "PatsyError",
     "evalue": "Error evaluating factor: NameError: name 'Al' is not defined\n    Al(dis) ~ Period\n    ^^^^^^^",
     "output_type": "error",
     "traceback": [
      "\u001b[1;31m---------------------------------------------------------------------------\u001b[0m",
      "\u001b[1;31mNameError\u001b[0m                                 Traceback (most recent call last)",
      "File \u001b[1;32mc:\\Users\\Usuario\\anaconda3_semestre2_2022\\lib\\site-packages\\patsy\\compat.py:36\u001b[0m, in \u001b[0;36mcall_and_wrap_exc\u001b[1;34m(msg, origin, f, *args, **kwargs)\u001b[0m\n\u001b[0;32m     35\u001b[0m \u001b[39mtry\u001b[39;00m:\n\u001b[1;32m---> 36\u001b[0m     \u001b[39mreturn\u001b[39;00m f(\u001b[39m*\u001b[39margs, \u001b[39m*\u001b[39m\u001b[39m*\u001b[39mkwargs)\n\u001b[0;32m     37\u001b[0m \u001b[39mexcept\u001b[39;00m \u001b[39mException\u001b[39;00m \u001b[39mas\u001b[39;00m e:\n",
      "File \u001b[1;32mc:\\Users\\Usuario\\anaconda3_semestre2_2022\\lib\\site-packages\\patsy\\eval.py:165\u001b[0m, in \u001b[0;36mEvalEnvironment.eval\u001b[1;34m(self, expr, source_name, inner_namespace)\u001b[0m\n\u001b[0;32m    164\u001b[0m code \u001b[39m=\u001b[39m \u001b[39mcompile\u001b[39m(expr, source_name, \u001b[39m\"\u001b[39m\u001b[39meval\u001b[39m\u001b[39m\"\u001b[39m, \u001b[39mself\u001b[39m\u001b[39m.\u001b[39mflags, \u001b[39mFalse\u001b[39;00m)\n\u001b[1;32m--> 165\u001b[0m \u001b[39mreturn\u001b[39;00m \u001b[39meval\u001b[39;49m(code, {}, VarLookupDict([inner_namespace]\n\u001b[0;32m    166\u001b[0m                                     \u001b[39m+\u001b[39;49m \u001b[39mself\u001b[39;49m\u001b[39m.\u001b[39;49m_namespaces))\n",
      "File \u001b[1;32m<string>:1\u001b[0m, in \u001b[0;36m<module>\u001b[1;34m\u001b[0m\n",
      "\u001b[1;31mNameError\u001b[0m: name 'Al' is not defined",
      "\nThe above exception was the direct cause of the following exception:\n",
      "\u001b[1;31mPatsyError\u001b[0m                                Traceback (most recent call last)",
      "\u001b[1;32mc:\\Users\\Usuario\\_____Python_ Scripts\\3__Analises-trabalhos\\Joao-UTAD\\nova analise-artigo1\\anova e boxplots.ipynb Cell 38\u001b[0m in \u001b[0;36m<cell line: 2>\u001b[1;34m()\u001b[0m\n\u001b[0;32m      <a href='vscode-notebook-cell:/c%3A/Users/Usuario/_____Python_%20Scripts/3__Analises-trabalhos/Joao-UTAD/nova%20analise-artigo1/anova%20e%20boxplots.ipynb#X52sZmlsZQ%3D%3D?line=0'>1</a>\u001b[0m teste\u001b[39m=\u001b[39mdados\u001b[39m.\u001b[39mquery(\u001b[39m'\u001b[39m\u001b[39mStation == \u001b[39m\u001b[39m\"\u001b[39m\u001b[39mPT-52\u001b[39m\u001b[39m\"\u001b[39m\u001b[39m'\u001b[39m)\n\u001b[1;32m----> <a href='vscode-notebook-cell:/c%3A/Users/Usuario/_____Python_%20Scripts/3__Analises-trabalhos/Joao-UTAD/nova%20analise-artigo1/anova%20e%20boxplots.ipynb#X52sZmlsZQ%3D%3D?line=1'>2</a>\u001b[0m modelo \u001b[39m=\u001b[39m ols(\u001b[39m'\u001b[39;49m\u001b[39mAl(dis) ~ Period\u001b[39;49m\u001b[39m'\u001b[39;49m, data\u001b[39m=\u001b[39;49mteste)\u001b[39m.\u001b[39mfit()\n\u001b[0;32m      <a href='vscode-notebook-cell:/c%3A/Users/Usuario/_____Python_%20Scripts/3__Analises-trabalhos/Joao-UTAD/nova%20analise-artigo1/anova%20e%20boxplots.ipynb#X52sZmlsZQ%3D%3D?line=2'>3</a>\u001b[0m resultado \u001b[39m=\u001b[39m sm\u001b[39m.\u001b[39mstats\u001b[39m.\u001b[39manova_lm(modelo)\n\u001b[0;32m      <a href='vscode-notebook-cell:/c%3A/Users/Usuario/_____Python_%20Scripts/3__Analises-trabalhos/Joao-UTAD/nova%20analise-artigo1/anova%20e%20boxplots.ipynb#X52sZmlsZQ%3D%3D?line=3'>4</a>\u001b[0m resultado\n",
      "File \u001b[1;32mc:\\Users\\Usuario\\anaconda3_semestre2_2022\\lib\\site-packages\\statsmodels\\base\\model.py:200\u001b[0m, in \u001b[0;36mModel.from_formula\u001b[1;34m(cls, formula, data, subset, drop_cols, *args, **kwargs)\u001b[0m\n\u001b[0;32m    197\u001b[0m \u001b[39mif\u001b[39;00m missing \u001b[39m==\u001b[39m \u001b[39m'\u001b[39m\u001b[39mnone\u001b[39m\u001b[39m'\u001b[39m:  \u001b[39m# with patsy it's drop or raise. let's raise.\u001b[39;00m\n\u001b[0;32m    198\u001b[0m     missing \u001b[39m=\u001b[39m \u001b[39m'\u001b[39m\u001b[39mraise\u001b[39m\u001b[39m'\u001b[39m\n\u001b[1;32m--> 200\u001b[0m tmp \u001b[39m=\u001b[39m handle_formula_data(data, \u001b[39mNone\u001b[39;49;00m, formula, depth\u001b[39m=\u001b[39;49meval_env,\n\u001b[0;32m    201\u001b[0m                           missing\u001b[39m=\u001b[39;49mmissing)\n\u001b[0;32m    202\u001b[0m ((endog, exog), missing_idx, design_info) \u001b[39m=\u001b[39m tmp\n\u001b[0;32m    203\u001b[0m max_endog \u001b[39m=\u001b[39m \u001b[39mcls\u001b[39m\u001b[39m.\u001b[39m_formula_max_endog\n",
      "File \u001b[1;32mc:\\Users\\Usuario\\anaconda3_semestre2_2022\\lib\\site-packages\\statsmodels\\formula\\formulatools.py:63\u001b[0m, in \u001b[0;36mhandle_formula_data\u001b[1;34m(Y, X, formula, depth, missing)\u001b[0m\n\u001b[0;32m     61\u001b[0m \u001b[39melse\u001b[39;00m:\n\u001b[0;32m     62\u001b[0m     \u001b[39mif\u001b[39;00m data_util\u001b[39m.\u001b[39m_is_using_pandas(Y, \u001b[39mNone\u001b[39;00m):\n\u001b[1;32m---> 63\u001b[0m         result \u001b[39m=\u001b[39m dmatrices(formula, Y, depth, return_type\u001b[39m=\u001b[39;49m\u001b[39m'\u001b[39;49m\u001b[39mdataframe\u001b[39;49m\u001b[39m'\u001b[39;49m,\n\u001b[0;32m     64\u001b[0m                            NA_action\u001b[39m=\u001b[39;49mna_action)\n\u001b[0;32m     65\u001b[0m     \u001b[39melse\u001b[39;00m:\n\u001b[0;32m     66\u001b[0m         result \u001b[39m=\u001b[39m dmatrices(formula, Y, depth, return_type\u001b[39m=\u001b[39m\u001b[39m'\u001b[39m\u001b[39mdataframe\u001b[39m\u001b[39m'\u001b[39m,\n\u001b[0;32m     67\u001b[0m                            NA_action\u001b[39m=\u001b[39mna_action)\n",
      "File \u001b[1;32mc:\\Users\\Usuario\\anaconda3_semestre2_2022\\lib\\site-packages\\patsy\\highlevel.py:309\u001b[0m, in \u001b[0;36mdmatrices\u001b[1;34m(formula_like, data, eval_env, NA_action, return_type)\u001b[0m\n\u001b[0;32m    299\u001b[0m \u001b[39m\"\"\"Construct two design matrices given a formula_like and data.\u001b[39;00m\n\u001b[0;32m    300\u001b[0m \n\u001b[0;32m    301\u001b[0m \u001b[39mThis function is identical to :func:`dmatrix`, except that it requires\u001b[39;00m\n\u001b[1;32m   (...)\u001b[0m\n\u001b[0;32m    306\u001b[0m \u001b[39mSee :func:`dmatrix` for details.\u001b[39;00m\n\u001b[0;32m    307\u001b[0m \u001b[39m\"\"\"\u001b[39;00m\n\u001b[0;32m    308\u001b[0m eval_env \u001b[39m=\u001b[39m EvalEnvironment\u001b[39m.\u001b[39mcapture(eval_env, reference\u001b[39m=\u001b[39m\u001b[39m1\u001b[39m)\n\u001b[1;32m--> 309\u001b[0m (lhs, rhs) \u001b[39m=\u001b[39m _do_highlevel_design(formula_like, data, eval_env,\n\u001b[0;32m    310\u001b[0m                                   NA_action, return_type)\n\u001b[0;32m    311\u001b[0m \u001b[39mif\u001b[39;00m lhs\u001b[39m.\u001b[39mshape[\u001b[39m1\u001b[39m] \u001b[39m==\u001b[39m \u001b[39m0\u001b[39m:\n\u001b[0;32m    312\u001b[0m     \u001b[39mraise\u001b[39;00m PatsyError(\u001b[39m\"\u001b[39m\u001b[39mmodel is missing required outcome variables\u001b[39m\u001b[39m\"\u001b[39m)\n",
      "File \u001b[1;32mc:\\Users\\Usuario\\anaconda3_semestre2_2022\\lib\\site-packages\\patsy\\highlevel.py:164\u001b[0m, in \u001b[0;36m_do_highlevel_design\u001b[1;34m(formula_like, data, eval_env, NA_action, return_type)\u001b[0m\n\u001b[0;32m    162\u001b[0m \u001b[39mdef\u001b[39;00m \u001b[39mdata_iter_maker\u001b[39m():\n\u001b[0;32m    163\u001b[0m     \u001b[39mreturn\u001b[39;00m \u001b[39miter\u001b[39m([data])\n\u001b[1;32m--> 164\u001b[0m design_infos \u001b[39m=\u001b[39m _try_incr_builders(formula_like, data_iter_maker, eval_env,\n\u001b[0;32m    165\u001b[0m                                   NA_action)\n\u001b[0;32m    166\u001b[0m \u001b[39mif\u001b[39;00m design_infos \u001b[39mis\u001b[39;00m \u001b[39mnot\u001b[39;00m \u001b[39mNone\u001b[39;00m:\n\u001b[0;32m    167\u001b[0m     \u001b[39mreturn\u001b[39;00m build_design_matrices(design_infos, data,\n\u001b[0;32m    168\u001b[0m                                  NA_action\u001b[39m=\u001b[39mNA_action,\n\u001b[0;32m    169\u001b[0m                                  return_type\u001b[39m=\u001b[39mreturn_type)\n",
      "File \u001b[1;32mc:\\Users\\Usuario\\anaconda3_semestre2_2022\\lib\\site-packages\\patsy\\highlevel.py:66\u001b[0m, in \u001b[0;36m_try_incr_builders\u001b[1;34m(formula_like, data_iter_maker, eval_env, NA_action)\u001b[0m\n\u001b[0;32m     64\u001b[0m \u001b[39mif\u001b[39;00m \u001b[39misinstance\u001b[39m(formula_like, ModelDesc):\n\u001b[0;32m     65\u001b[0m     \u001b[39massert\u001b[39;00m \u001b[39misinstance\u001b[39m(eval_env, EvalEnvironment)\n\u001b[1;32m---> 66\u001b[0m     \u001b[39mreturn\u001b[39;00m design_matrix_builders([formula_like\u001b[39m.\u001b[39;49mlhs_termlist,\n\u001b[0;32m     67\u001b[0m                                    formula_like\u001b[39m.\u001b[39;49mrhs_termlist],\n\u001b[0;32m     68\u001b[0m                                   data_iter_maker,\n\u001b[0;32m     69\u001b[0m                                   eval_env,\n\u001b[0;32m     70\u001b[0m                                   NA_action)\n\u001b[0;32m     71\u001b[0m \u001b[39melse\u001b[39;00m:\n\u001b[0;32m     72\u001b[0m     \u001b[39mreturn\u001b[39;00m \u001b[39mNone\u001b[39;00m\n",
      "File \u001b[1;32mc:\\Users\\Usuario\\anaconda3_semestre2_2022\\lib\\site-packages\\patsy\\build.py:693\u001b[0m, in \u001b[0;36mdesign_matrix_builders\u001b[1;34m(termlists, data_iter_maker, eval_env, NA_action)\u001b[0m\n\u001b[0;32m    689\u001b[0m factor_states \u001b[39m=\u001b[39m _factors_memorize(all_factors, data_iter_maker, eval_env)\n\u001b[0;32m    690\u001b[0m \u001b[39m# Now all the factors have working eval methods, so we can evaluate them\u001b[39;00m\n\u001b[0;32m    691\u001b[0m \u001b[39m# on some data to find out what type of data they return.\u001b[39;00m\n\u001b[0;32m    692\u001b[0m (num_column_counts,\n\u001b[1;32m--> 693\u001b[0m  cat_levels_contrasts) \u001b[39m=\u001b[39m _examine_factor_types(all_factors,\n\u001b[0;32m    694\u001b[0m                                                factor_states,\n\u001b[0;32m    695\u001b[0m                                                data_iter_maker,\n\u001b[0;32m    696\u001b[0m                                                NA_action)\n\u001b[0;32m    697\u001b[0m \u001b[39m# Now we need the factor infos, which encapsulate the knowledge of\u001b[39;00m\n\u001b[0;32m    698\u001b[0m \u001b[39m# how to turn any given factor into a chunk of data:\u001b[39;00m\n\u001b[0;32m    699\u001b[0m factor_infos \u001b[39m=\u001b[39m {}\n",
      "File \u001b[1;32mc:\\Users\\Usuario\\anaconda3_semestre2_2022\\lib\\site-packages\\patsy\\build.py:443\u001b[0m, in \u001b[0;36m_examine_factor_types\u001b[1;34m(factors, factor_states, data_iter_maker, NA_action)\u001b[0m\n\u001b[0;32m    441\u001b[0m \u001b[39mfor\u001b[39;00m data \u001b[39min\u001b[39;00m data_iter_maker():\n\u001b[0;32m    442\u001b[0m     \u001b[39mfor\u001b[39;00m factor \u001b[39min\u001b[39;00m \u001b[39mlist\u001b[39m(examine_needed):\n\u001b[1;32m--> 443\u001b[0m         value \u001b[39m=\u001b[39m factor\u001b[39m.\u001b[39;49meval(factor_states[factor], data)\n\u001b[0;32m    444\u001b[0m         \u001b[39mif\u001b[39;00m factor \u001b[39min\u001b[39;00m cat_sniffers \u001b[39mor\u001b[39;00m guess_categorical(value):\n\u001b[0;32m    445\u001b[0m             \u001b[39mif\u001b[39;00m factor \u001b[39mnot\u001b[39;00m \u001b[39min\u001b[39;00m cat_sniffers:\n",
      "File \u001b[1;32mc:\\Users\\Usuario\\anaconda3_semestre2_2022\\lib\\site-packages\\patsy\\eval.py:564\u001b[0m, in \u001b[0;36mEvalFactor.eval\u001b[1;34m(self, memorize_state, data)\u001b[0m\n\u001b[0;32m    563\u001b[0m \u001b[39mdef\u001b[39;00m \u001b[39meval\u001b[39m(\u001b[39mself\u001b[39m, memorize_state, data):\n\u001b[1;32m--> 564\u001b[0m     \u001b[39mreturn\u001b[39;00m \u001b[39mself\u001b[39;49m\u001b[39m.\u001b[39;49m_eval(memorize_state[\u001b[39m\"\u001b[39;49m\u001b[39meval_code\u001b[39;49m\u001b[39m\"\u001b[39;49m],\n\u001b[0;32m    565\u001b[0m                       memorize_state,\n\u001b[0;32m    566\u001b[0m                       data)\n",
      "File \u001b[1;32mc:\\Users\\Usuario\\anaconda3_semestre2_2022\\lib\\site-packages\\patsy\\eval.py:547\u001b[0m, in \u001b[0;36mEvalFactor._eval\u001b[1;34m(self, code, memorize_state, data)\u001b[0m\n\u001b[0;32m    545\u001b[0m \u001b[39mdef\u001b[39;00m \u001b[39m_eval\u001b[39m(\u001b[39mself\u001b[39m, code, memorize_state, data):\n\u001b[0;32m    546\u001b[0m     inner_namespace \u001b[39m=\u001b[39m VarLookupDict([data, memorize_state[\u001b[39m\"\u001b[39m\u001b[39mtransforms\u001b[39m\u001b[39m\"\u001b[39m]])\n\u001b[1;32m--> 547\u001b[0m     \u001b[39mreturn\u001b[39;00m call_and_wrap_exc(\u001b[39m\"\u001b[39;49m\u001b[39mError evaluating factor\u001b[39;49m\u001b[39m\"\u001b[39;49m,\n\u001b[0;32m    548\u001b[0m                              \u001b[39mself\u001b[39;49m,\n\u001b[0;32m    549\u001b[0m                              memorize_state[\u001b[39m\"\u001b[39;49m\u001b[39meval_env\u001b[39;49m\u001b[39m\"\u001b[39;49m]\u001b[39m.\u001b[39;49meval,\n\u001b[0;32m    550\u001b[0m                              code,\n\u001b[0;32m    551\u001b[0m                              inner_namespace\u001b[39m=\u001b[39;49minner_namespace)\n",
      "File \u001b[1;32mc:\\Users\\Usuario\\anaconda3_semestre2_2022\\lib\\site-packages\\patsy\\compat.py:43\u001b[0m, in \u001b[0;36mcall_and_wrap_exc\u001b[1;34m(msg, origin, f, *args, **kwargs)\u001b[0m\n\u001b[0;32m     39\u001b[0m     new_exc \u001b[39m=\u001b[39m PatsyError(\u001b[39m\"\u001b[39m\u001b[39m%s\u001b[39;00m\u001b[39m: \u001b[39m\u001b[39m%s\u001b[39;00m\u001b[39m: \u001b[39m\u001b[39m%s\u001b[39;00m\u001b[39m\"\u001b[39m\n\u001b[0;32m     40\u001b[0m                          \u001b[39m%\u001b[39m (msg, e\u001b[39m.\u001b[39m\u001b[39m__class__\u001b[39m\u001b[39m.\u001b[39m\u001b[39m__name__\u001b[39m, e),\n\u001b[0;32m     41\u001b[0m                          origin)\n\u001b[0;32m     42\u001b[0m     \u001b[39m# Use 'exec' to hide this syntax from the Python 2 parser:\u001b[39;00m\n\u001b[1;32m---> 43\u001b[0m     exec(\u001b[39m\"\u001b[39;49m\u001b[39mraise new_exc from e\u001b[39;49m\u001b[39m\"\u001b[39;49m)\n\u001b[0;32m     44\u001b[0m \u001b[39melse\u001b[39;00m:\n\u001b[0;32m     45\u001b[0m     \u001b[39m# In python 2, we just let the original exception escape -- better\u001b[39;00m\n\u001b[0;32m     46\u001b[0m     \u001b[39m# than destroying the traceback. But if it's a PatsyError, we can\u001b[39;00m\n\u001b[0;32m     47\u001b[0m     \u001b[39m# at least set the origin properly.\u001b[39;00m\n\u001b[0;32m     48\u001b[0m     \u001b[39mif\u001b[39;00m \u001b[39misinstance\u001b[39m(e, PatsyError):\n",
      "File \u001b[1;32m<string>:1\u001b[0m, in \u001b[0;36m<module>\u001b[1;34m\u001b[0m\n",
      "\u001b[1;31mPatsyError\u001b[0m: Error evaluating factor: NameError: name 'Al' is not defined\n    Al(dis) ~ Period\n    ^^^^^^^"
     ]
    }
   ],
   "source": [
    "teste=dados.query('Station == \"PT-52\"')\n",
    "modelo = ols('Al(dis) ~ Period', data=teste).fit()\n",
    "resultado = sm.stats.anova_lm(modelo)\n",
    "resultado"
   ]
  },
  {
   "cell_type": "code",
   "execution_count": 37,
   "id": "ed2a2499-a184-45f4-8fc7-f61c79571580",
   "metadata": {},
   "outputs": [
    {
     "data": {
      "text/plain": [
       "Index(['Distance', 'Station', 'Period', 'River type', 'Sector', 'Week',\n",
       "       'Month/Year', 'year', 'Al(dis)', 'Al(tot)', 'As(tot)', 'Pb(dis)',\n",
       "       'Pd(tot)', 'Fe(dis)', 'Fe(tot)', 'P(dis)', 'P(tot)', 'Mn(dis)',\n",
       "       'Mn(tot)', 'pH', 'T', 'Turb', 'Al(sed)', 'As(sed)', 'Pb(sed)',\n",
       "       'Fe(sed)', 'P(sed)', 'Mn(sed)', 'Clay', 'Silt', 'sandVF', 'sandF',\n",
       "       'sandM', 'sandC', 'sandVC', 'Q'],\n",
       "      dtype='object')"
      ]
     },
     "execution_count": 37,
     "metadata": {},
     "output_type": "execute_result"
    }
   ],
   "source": [
    "dados.columns"
   ]
  },
  {
   "cell_type": "code",
   "execution_count": 41,
   "id": "9f7cd736-2858-436a-917b-27bed7742560",
   "metadata": {},
   "outputs": [
    {
     "data": {
      "text/plain": [
       "(5.0, 9.0)"
      ]
     },
     "execution_count": 41,
     "metadata": {},
     "output_type": "execute_result"
    },
    {
     "data": {
      "image/png": "[encoded data removed]",
      "text/plain": [
       "<Figure size 280.8x360 with 1 Axes>"
      ]
     },
     "metadata": {
      "needs_background": "light"
     },
     "output_type": "display_data"
    }
   ],
   "source": [
    "# nova tentativa\n",
    "plt.figure(figsize=(3.9,5))\n",
    "sns.boxplot(y='pH',\n",
    "            x='Sector',\n",
    "            data=dados,\n",
    "            hue='Period',\n",
    "            showmeans=True,\n",
    "            palette=\"Set1\",\n",
    "            meanprops={\"marker\":\"o\",\n",
    "                       \"markerfacecolor\":\"white\", \n",
    "                       \"markeredgecolor\":\"black\",\n",
    "                      \"markersize\":\"6\"})\n",
    "\n",
    "plt.xlabel('')\n",
    "plt.ylabel('pH', fontsize=14)\n",
    "plt.text(-0.4,8.7,\"A)\",\n",
    "         horizontalalignment='left',\n",
    "         size=16,\n",
    "         color='black',\n",
    "         weight='normal')\n",
    "plt.legend(loc='lower left',\n",
    "           ncol=1,\n",
    "           bbox_to_anchor=(0,0.05),\n",
    "           frameon=True)\n",
    "#plt.legend('',frameon=False)\n",
    "plt.ylim([5,9])"
   ]
  },
  {
   "cell_type": "code",
   "execution_count": 42,
   "id": "3b9b9a56-59fe-4179-b36f-fb76c0002752",
   "metadata": {},
   "outputs": [
    {
     "data": {
      "text/plain": [
       "<matplotlib.legend.Legend at 0x29a6c29b8e0>"
      ]
     },
     "execution_count": 42,
     "metadata": {},
     "output_type": "execute_result"
    },
    {
     "data": {
      "image/png": "[encoded data removed]",
      "text/plain": [
       "<Figure size 280.8x360 with 1 Axes>"
      ]
     },
     "metadata": {
      "needs_background": "light"
     },
     "output_type": "display_data"
    }
   ],
   "source": [
    "plt.figure(figsize=(3.9,5))\n",
    "sns.boxplot(y='T',\n",
    "            x='Sector',\n",
    "            data=dados,\n",
    "            hue='Period',\n",
    "            showmeans=True,\n",
    "            palette=\"Set1\",\n",
    "            meanprops={\"marker\":\"o\",\n",
    "                       \"markerfacecolor\":\"white\", \n",
    "                       \"markeredgecolor\":\"black\",\n",
    "                      \"markersize\":\"6\"})\n",
    "\n",
    "plt.xlabel('')\n",
    "plt.ylabel('Temperature (°C)', fontsize=14)\n",
    "plt.text(-0.4,31,\"B)\",\n",
    "         horizontalalignment='left',\n",
    "         size=16,\n",
    "         color='black',\n",
    "         weight='normal')\n",
    "#plt.legend(loc='lower left',\n",
    "#           ncol=1,\n",
    "#           bbox_to_anchor=(0,0.05),\n",
    "#           frameon=True)\n",
    "plt.legend('',frameon=False)\n",
    "#plt.ylim([0,5])"
   ]
  },
  {
   "cell_type": "code",
   "execution_count": 43,
   "id": "23002a43-4b4f-405b-9954-907b9c65981a",
   "metadata": {},
   "outputs": [
    {
     "data": {
      "text/plain": [
       "<matplotlib.legend.Legend at 0x29a6c4a1190>"
      ]
     },
     "execution_count": 43,
     "metadata": {},
     "output_type": "execute_result"
    },
    {
     "data": {
      "image/png": "[encoded data removed]",
      "text/plain": [
       "<Figure size 280.8x360 with 1 Axes>"
      ]
     },
     "metadata": {
      "needs_background": "light"
     },
     "output_type": "display_data"
    }
   ],
   "source": [
    "plt.figure(figsize=(3.9,5))\n",
    "sns.boxplot(y='Turb',\n",
    "            x='Sector',\n",
    "            data=dados,\n",
    "            hue='Period',\n",
    "            showmeans=True,\n",
    "            palette=\"Set1\",\n",
    "            meanprops={\"marker\":\"o\",\n",
    "                       \"markerfacecolor\":\"white\", \n",
    "                       \"markeredgecolor\":\"black\",\n",
    "                      \"markersize\":\"6\"})\n",
    "\n",
    "plt.xlabel('')\n",
    "plt.ylabel('Turbidity (NTU)', fontsize=14)\n",
    "plt.text(-0.4,1100,\"C)\",\n",
    "         horizontalalignment='left',\n",
    "         size=16,\n",
    "         color='black',\n",
    "         weight='normal')\n",
    "#plt.legend(loc='lower left',\n",
    "#           ncol=1,\n",
    "#           bbox_to_anchor=(0,0.05),\n",
    "#           frameon=True)\n",
    "plt.legend('',frameon=False)\n",
    "#plt.ylim([0,5])"
   ]
  },
  {
   "cell_type": "code",
   "execution_count": 44,
   "id": "7e32d123-40a7-4bb8-9b09-0ed38094a738",
   "metadata": {},
   "outputs": [
    {
     "data": {
      "text/plain": [
       "(0.0, 0.0045)"
      ]
     },
     "execution_count": 44,
     "metadata": {},
     "output_type": "execute_result"
    },
    {
     "data": {
      "image/png": "[encoded data removed]",
      "text/plain": [
       "<Figure size 280.8x360 with 1 Axes>"
      ]
     },
     "metadata": {
      "needs_background": "light"
     },
     "output_type": "display_data"
    }
   ],
   "source": [
    "'''\n",
    "'Artot', 'Pbdis', 'Pdtot',\n",
    "       'Fedis', 'Fetot', 'Pdis', 'Ptot', 'Mndis', 'Mntot', 'pH', 'T', 'Turb',\n",
    "       's_Al', 's_Ar', 's_Pb', 's_Fe', 's_P', 's_Mn', 's_arg', 's_sil',\n",
    "       's_amf', 's_af', 's_am', 's_ag', 's_amg', 'Qmed'],\n",
    "'''\n",
    "\n",
    "#plt.figure(figsize=(3.9,5))\n",
    "plt.figure(figsize=(3.9,5))\n",
    "sns.boxplot(y='As(tot)',\n",
    "            x='Sector',\n",
    "            data=dados,\n",
    "            hue='Period',\n",
    "            showmeans=True,\n",
    "            palette=\"Set1\",\n",
    "            meanprops={\"marker\":\"o\",\n",
    "                       \"markerfacecolor\":\"white\", \n",
    "                       \"markeredgecolor\":\"black\",\n",
    "                      \"markersize\":\"6\"})\n",
    "\n",
    "plt.xlabel('')\n",
    "plt.ylabel('Total Arsenic (mg/L)', fontsize=14)\n",
    "plt.text(-0.4,0.0042,\"D)\",\n",
    "         horizontalalignment='left',\n",
    "         size=16,\n",
    "         color='black',\n",
    "         weight='normal')\n",
    "#plt.legend(loc='lower left',\n",
    "#           ncol=1,\n",
    "#           bbox_to_anchor=(0,0.05),\n",
    "#           frameon=True)\n",
    "#plt.legend('',frameon=False)\n",
    "plt.ylim([0,0.0045])"
   ]
  },
  {
   "cell_type": "code",
   "execution_count": 49,
   "id": "312be495-d5b3-492e-a2f4-7b36e35abe5d",
   "metadata": {},
   "outputs": [
    {
     "data": {
      "text/plain": [
       "(0.0, 0.025)"
      ]
     },
     "execution_count": 49,
     "metadata": {},
     "output_type": "execute_result"
    },
    {
     "data": {
      "image/png": "[encoded data removed]",
      "text/plain": [
       "<Figure size 280.8x360 with 1 Axes>"
      ]
     },
     "metadata": {
      "needs_background": "light"
     },
     "output_type": "display_data"
    }
   ],
   "source": [
    "'''\n",
    "'Artot', 'Pbdis', 'Pdtot',\n",
    "       'Fedis', 'Fetot', 'Pdis', 'Ptot', 'Mndis', 'Mntot', 'pH', 'T', 'Turb',\n",
    "       's_Al', 's_Ar', 's_Pb', 's_Fe', 's_P', 's_Mn', 's_arg', 's_sil',\n",
    "       's_amf', 's_af', 's_am', 's_ag', 's_amg', 'Qmed'],\n",
    "'''\n",
    "\n",
    "#plt.figure(figsize=(3.9,5))\n",
    "plt.figure(figsize=(3.9,5))\n",
    "sns.boxplot(y='Pb(dis)',\n",
    "            x='Sector',\n",
    "            data=dados,\n",
    "            hue='Period',\n",
    "            showmeans=True,\n",
    "            palette=\"Set1\",\n",
    "            meanprops={\"marker\":\"o\",\n",
    "                       \"markerfacecolor\":\"white\", \n",
    "                       \"markeredgecolor\":\"black\",\n",
    "                      \"markersize\":\"6\"})\n",
    "\n",
    "plt.xlabel('')\n",
    "plt.ylabel('Dissolved Lead (mg/L)', fontsize=14)\n",
    "plt.text(-0.4,0.023,\"E)\",\n",
    "         horizontalalignment='left',\n",
    "         size=16,\n",
    "         color='black',\n",
    "         weight='normal')\n",
    "#plt.legend(loc='lower left',\n",
    "#           ncol=1,\n",
    "#           bbox_to_anchor=(0,0.05),\n",
    "#           frameon=True)\n",
    "plt.legend('',frameon=False)\n",
    "plt.ylim([0,0.025])"
   ]
  },
  {
   "cell_type": "code",
   "execution_count": 46,
   "id": "d1b4bff9-3dd3-4bc1-aa80-584d28320373",
   "metadata": {},
   "outputs": [
    {
     "data": {
      "text/plain": [
       "<matplotlib.legend.Legend at 0x29a6d774820>"
      ]
     },
     "execution_count": 46,
     "metadata": {},
     "output_type": "execute_result"
    },
    {
     "data": {
      "image/png": "[encoded data removed]",
      "text/plain": [
       "<Figure size 280.8x360 with 1 Axes>"
      ]
     },
     "metadata": {
      "needs_background": "light"
     },
     "output_type": "display_data"
    }
   ],
   "source": [
    "'''\n",
    "       'Fedis', 'Fetot', 'Pdis', 'Ptot', 'Mndis', 'Mntot', 'pH', 'T', 'Turb',\n",
    "       's_Al', 's_Ar', 's_Pb', 's_Fe', 's_P', 's_Mn', 's_arg', 's_sil',\n",
    "       's_amf', 's_af', 's_am', 's_ag', 's_amg', 'Qmed'],\n",
    "'''\n",
    "\n",
    "#plt.figure(figsize=(3.9,5))\n",
    "plt.figure(figsize=(3.9,5))\n",
    "sns.boxplot(y='Pd(tot)',\n",
    "            x='Sector',\n",
    "            data=dados,\n",
    "            hue='Period',\n",
    "            showmeans=True,\n",
    "            palette=\"Set1\",\n",
    "            meanprops={\"marker\":\"o\",\n",
    "                       \"markerfacecolor\":\"white\", \n",
    "                       \"markeredgecolor\":\"black\",\n",
    "                      \"markersize\":\"6\"})\n",
    "\n",
    "plt.xlabel('')\n",
    "plt.ylabel('Total Lead (mg/L)', fontsize=14)\n",
    "plt.text(-0.4,0.03,\"F)\",\n",
    "         horizontalalignment='left',\n",
    "         size=16,\n",
    "         color='black',\n",
    "         weight='normal')\n",
    "#plt.legend(loc='lower left',\n",
    "#           ncol=1,\n",
    "#           bbox_to_anchor=(0,0.05),\n",
    "#           frameon=True)\n",
    "plt.legend('',frameon=False)\n",
    "#plt.ylim([0,5])"
   ]
  },
  {
   "cell_type": "code",
   "execution_count": 50,
   "id": "20f61448-aafc-4c3e-ae8e-e79e00c399a1",
   "metadata": {},
   "outputs": [
    {
     "data": {
      "text/plain": [
       "<matplotlib.legend.Legend at 0x29a6daf6970>"
      ]
     },
     "execution_count": 50,
     "metadata": {},
     "output_type": "execute_result"
    },
    {
     "data": {
      "image/png": "[encoded data removed]",
      "text/plain": [
       "<Figure size 280.8x360 with 1 Axes>"
      ]
     },
     "metadata": {
      "needs_background": "light"
     },
     "output_type": "display_data"
    }
   ],
   "source": [
    "'''\n",
    "       'Pdis', 'Ptot', 'Mndis', 'Mntot', 'pH', 'T', 'Turb',\n",
    "       's_Al', 's_Ar', 's_Pb', 's_Fe', 's_P', 's_Mn', 's_arg', 's_sil',\n",
    "       's_amf', 's_af', 's_am', 's_ag', 's_amg', 'Qmed'],\n",
    "'''\n",
    "\n",
    "#plt.figure(figsize=(3.9,5))\n",
    "plt.figure(figsize=(3.9,5))\n",
    "sns.boxplot(y='P(dis)',\n",
    "            x='Sector',\n",
    "            data=dados,\n",
    "            hue='Period',\n",
    "            showmeans=True,\n",
    "            palette=\"Set1\",\n",
    "            meanprops={\"marker\":\"o\",\n",
    "                       \"markerfacecolor\":\"white\", \n",
    "                       \"markeredgecolor\":\"black\",\n",
    "                      \"markersize\":\"6\"})\n",
    "\n",
    "plt.xlabel('')\n",
    "plt.ylabel('Dissolved Phosporus (mg/L)', fontsize=14)\n",
    "plt.text(-0.4,0.14,\"G)\",\n",
    "         horizontalalignment='left',\n",
    "         size=16,\n",
    "         color='black',\n",
    "         weight='normal')\n",
    "#plt.legend(loc='lower left',\n",
    "#           ncol=1,\n",
    "#           bbox_to_anchor=(0,0.05),\n",
    "#           frameon=True)\n",
    "plt.legend('',frameon=False)\n",
    "#plt.ylim([0,5])"
   ]
  },
  {
   "cell_type": "code",
   "execution_count": 51,
   "id": "5154eee0-788b-4761-a957-4e891cd2dfad",
   "metadata": {},
   "outputs": [
    {
     "data": {
      "text/plain": [
       "<matplotlib.legend.Legend at 0x29a6db505e0>"
      ]
     },
     "execution_count": 51,
     "metadata": {},
     "output_type": "execute_result"
    },
    {
     "data": {
      "image/png": "[encoded data removed]",
      "text/plain": [
       "<Figure size 280.8x360 with 1 Axes>"
      ]
     },
     "metadata": {
      "needs_background": "light"
     },
     "output_type": "display_data"
    }
   ],
   "source": [
    "'''\n",
    "       'Pdis', 'Ptot', 'Mndis', 'Mntot', 'pH', 'T', 'Turb',\n",
    "       's_Al', 's_Ar', 's_Pb', 's_Fe', 's_P', 's_Mn', 's_arg', 's_sil',\n",
    "       's_amf', 's_af', 's_am', 's_ag', 's_amg', 'Qmed'],\n",
    "'''\n",
    "\n",
    "#plt.figure(figsize=(3.9,5))\n",
    "plt.figure(figsize=(3.9,5))\n",
    "sns.boxplot(y='P(tot)',\n",
    "            x='Sector',\n",
    "            data=dados,\n",
    "            hue='Period',\n",
    "            showmeans=True,\n",
    "            palette=\"Set1\",\n",
    "            meanprops={\"marker\":\"o\",\n",
    "                       \"markerfacecolor\":\"white\", \n",
    "                       \"markeredgecolor\":\"black\",\n",
    "                      \"markersize\":\"6\"})\n",
    "\n",
    "plt.xlabel('')\n",
    "plt.ylabel('Total Phosporus (mg/L)', fontsize=14)\n",
    "plt.text(-0.4,0.8,\"H)\",\n",
    "         horizontalalignment='left',\n",
    "         size=16,\n",
    "         color='black',\n",
    "         weight='normal')\n",
    "#plt.legend(loc='lower left',\n",
    "#           ncol=1,\n",
    "#           bbox_to_anchor=(0,0.05),\n",
    "#           frameon=True)\n",
    "plt.legend('',frameon=False)\n",
    "#plt.ylim([0,5])"
   ]
  },
  {
   "cell_type": "code",
   "execution_count": 53,
   "id": "98181edd-3074-4dac-b00a-9b9797225f44",
   "metadata": {},
   "outputs": [
    {
     "data": {
      "text/plain": [
       "(0.0, 4.0)"
      ]
     },
     "execution_count": 53,
     "metadata": {},
     "output_type": "execute_result"
    },
    {
     "data": {
      "image/png": "[encoded data removed]",
      "text/plain": [
       "<Figure size 280.8x360 with 1 Axes>"
      ]
     },
     "metadata": {
      "needs_background": "light"
     },
     "output_type": "display_data"
    }
   ],
   "source": [
    "'''\n",
    "       'Pdis', 'Ptot', 'Mndis', 'Mntot', 'pH', 'T', 'Turb',\n",
    "       's_Al', 's_Ar', 's_Pb', 's_Fe', 's_P', 's_Mn', 's_arg', 's_sil',\n",
    "       's_amf', 's_af', 's_am', 's_ag', 's_amg', 'Qmed'],\n",
    "'''\n",
    "\n",
    "#plt.figure(figsize=(3.9,5))\n",
    "plt.figure(figsize=(3.9,5))\n",
    "sns.boxplot(y='Mn(tot)',\n",
    "            x='Sector',\n",
    "            data=dados,\n",
    "            hue='Period',\n",
    "            showmeans=True,\n",
    "            palette=\"Set1\",\n",
    "            meanprops={\"marker\":\"o\",\n",
    "                       \"markerfacecolor\":\"white\", \n",
    "                       \"markeredgecolor\":\"black\",\n",
    "                      \"markersize\":\"6\"})\n",
    "\n",
    "plt.xlabel('')\n",
    "plt.ylabel('Total Manganese (mg/L)', fontsize=14)\n",
    "plt.text(-0.4,3.7,\"I)\",\n",
    "         horizontalalignment='left',\n",
    "         size=16,\n",
    "         color='black',\n",
    "         weight='normal')\n",
    "#plt.legend(loc='lower left',\n",
    "#           ncol=1,\n",
    "#           bbox_to_anchor=(0,0.05),\n",
    "#           frameon=True)\n",
    "plt.legend('',frameon=False)\n",
    "plt.ylim([0,4])"
   ]
  },
  {
   "cell_type": "markdown",
   "id": "e83e8eb8-65b6-4e3b-b19c-9d717d43aaa1",
   "metadata": {},
   "source": [
    "# SOLOS !"
   ]
  },
  {
   "cell_type": "code",
   "execution_count": 65,
   "id": "b51c8600-e278-4daf-89e3-d0298ad3094b",
   "metadata": {},
   "outputs": [
    {
     "data": {
      "text/plain": [
       "<matplotlib.legend.Legend at 0x29a6e02d280>"
      ]
     },
     "execution_count": 65,
     "metadata": {},
     "output_type": "execute_result"
    },
    {
     "data": {
      "image/png": "[encoded data removed]",
      "text/plain": [
       "<Figure size 280.8x360 with 1 Axes>"
      ]
     },
     "metadata": {
      "needs_background": "light"
     },
     "output_type": "display_data"
    }
   ],
   "source": [
    "'''\n",
    "       's_Al', 's_Ar', 's_Pb', 's_Fe', 's_P', 's_Mn', 's_arg', 's_sil',\n",
    "       's_amf', 's_af', 's_am', 's_ag', 's_amg', 'Qmed'],\n",
    "'''\n",
    "\n",
    "#plt.figure(figsize=(3.9,5))\n",
    "plt.figure(figsize=(3.9,5))\n",
    "sns.boxplot(y='Al(sed)',\n",
    "            x='Sector',\n",
    "            data=dados,\n",
    "            hue='Period',\n",
    "            showmeans=True,\n",
    "            palette=\"Set1\",\n",
    "            meanprops={\"marker\":\"o\",\n",
    "                       \"markerfacecolor\":\"white\", \n",
    "                       \"markeredgecolor\":\"black\",\n",
    "                      \"markersize\":\"6\"})\n",
    "\n",
    "plt.xlabel('')\n",
    "plt.ylabel('Aluminum (mg/kg)', fontsize=14)\n",
    "plt.text(-0.4,80000,\"A)\",\n",
    "         horizontalalignment='left',\n",
    "         size=16,\n",
    "         color='black',\n",
    "         weight='normal')\n",
    "plt.legend(loc='lower left',\n",
    "           ncol=1,\n",
    "           bbox_to_anchor=(0,.7),\n",
    "           frameon=True)\n",
    "#plt.legend('',frameon=False)\n",
    "#plt.ylim([0,4])"
   ]
  },
  {
   "cell_type": "code",
   "execution_count": 66,
   "id": "bb951ce6-7cc0-4fc0-9f93-87a854be4e97",
   "metadata": {},
   "outputs": [
    {
     "data": {
      "text/plain": [
       "<matplotlib.legend.Legend at 0x29a6dfb2c70>"
      ]
     },
     "execution_count": 66,
     "metadata": {},
     "output_type": "execute_result"
    },
    {
     "data": {
      "image/png": "[encoded data removed]",
      "text/plain": [
       "<Figure size 280.8x360 with 1 Axes>"
      ]
     },
     "metadata": {
      "needs_background": "light"
     },
     "output_type": "display_data"
    }
   ],
   "source": [
    "'''\n",
    "       's_Al', 's_Ar', 's_Pb', 's_Fe', 's_P', 's_Mn', 's_arg', 's_sil',\n",
    "       's_amf', 's_af', 's_am', 's_ag', 's_amg', 'Qmed'],\n",
    "'''\n",
    "\n",
    "#plt.figure(figsize=(3.9,5))\n",
    "plt.figure(figsize=(3.9,5))\n",
    "sns.boxplot(y='As(sed)',\n",
    "            x='Sector',\n",
    "            data=dados,\n",
    "            hue='Period',\n",
    "            showmeans=True,\n",
    "            palette=\"Set1\",\n",
    "            meanprops={\"marker\":\"o\",\n",
    "                       \"markerfacecolor\":\"white\", \n",
    "                       \"markeredgecolor\":\"black\",\n",
    "                      \"markersize\":\"6\"})\n",
    "\n",
    "plt.xlabel('')\n",
    "plt.ylabel('Arsenic (mg/kg)', fontsize=14)\n",
    "plt.text(-0.4,30,\"B)\",\n",
    "         horizontalalignment='left',\n",
    "         size=16,\n",
    "         color='black',\n",
    "         weight='normal')\n",
    "#plt.legend(loc='lower left',\n",
    "#           ncol=1,\n",
    "#           bbox_to_anchor=(0,0.05),\n",
    "#           frameon=True)\n",
    "plt.legend('',frameon=False)\n",
    "#plt.ylim([0,4])"
   ]
  },
  {
   "cell_type": "code",
   "execution_count": 67,
   "id": "19a08066-8c7c-48a9-a1c6-af3e08bd415d",
   "metadata": {},
   "outputs": [
    {
     "data": {
      "text/plain": [
       "<matplotlib.legend.Legend at 0x29a6c22e250>"
      ]
     },
     "execution_count": 67,
     "metadata": {},
     "output_type": "execute_result"
    },
    {
     "data": {
      "image/png": "[encoded data removed]",
      "text/plain": [
       "<Figure size 280.8x360 with 1 Axes>"
      ]
     },
     "metadata": {
      "needs_background": "light"
     },
     "output_type": "display_data"
    }
   ],
   "source": [
    "'''\n",
    "       's_Al', 's_Ar', 's_Pb', 's_Fe', 's_P', 's_Mn', 's_arg', 's_sil',\n",
    "       's_amf', 's_af', 's_am', 's_ag', 's_amg', 'Qmed'],\n",
    "'''\n",
    "\n",
    "#plt.figure(figsize=(3.9,5))\n",
    "plt.figure(figsize=(3.9,5))\n",
    "sns.boxplot(y='Pb(sed)',\n",
    "            x='Sector',\n",
    "            data=dados,\n",
    "            hue='Period',\n",
    "            showmeans=True,\n",
    "            palette=\"Set1\",\n",
    "            meanprops={\"marker\":\"o\",\n",
    "                       \"markerfacecolor\":\"white\", \n",
    "                       \"markeredgecolor\":\"black\",\n",
    "                      \"markersize\":\"6\"})\n",
    "\n",
    "plt.xlabel('')\n",
    "plt.ylabel('Lead (mg/kg)', fontsize=14)\n",
    "plt.text(-0.4,245,\"C)\",\n",
    "         horizontalalignment='left',\n",
    "         size=16,\n",
    "         color='black',\n",
    "         weight='normal')\n",
    "#plt.legend(loc='lower left',\n",
    "#           ncol=1,\n",
    "#           bbox_to_anchor=(0,0.05),\n",
    "#           frameon=True)\n",
    "plt.legend('',frameon=False)\n",
    "#plt.ylim([0,4])"
   ]
  },
  {
   "cell_type": "code",
   "execution_count": 68,
   "id": "4d50ddd1-080f-4619-a878-1ec1d8948011",
   "metadata": {},
   "outputs": [
    {
     "data": {
      "text/plain": [
       "<matplotlib.legend.Legend at 0x29a6c055310>"
      ]
     },
     "execution_count": 68,
     "metadata": {},
     "output_type": "execute_result"
    },
    {
     "data": {
      "image/png": "[encoded data removed]",
      "text/plain": [
       "<Figure size 280.8x360 with 1 Axes>"
      ]
     },
     "metadata": {
      "needs_background": "light"
     },
     "output_type": "display_data"
    }
   ],
   "source": [
    "'''\n",
    "       's_Al', 's_Ar', 's_Pb', 's_Fe', 's_P', 's_Mn', 's_arg', 's_sil',\n",
    "       's_amf', 's_af', 's_am', 's_ag', 's_amg', 'Qmed'],\n",
    "'''\n",
    "\n",
    "#plt.figure(figsize=(3.9,5))\n",
    "plt.figure(figsize=(3.9,5))\n",
    "sns.boxplot(y='Fe(sed)',\n",
    "            x='Sector',\n",
    "            data=dados,\n",
    "            hue='Period',\n",
    "            showmeans=True,\n",
    "            palette=\"Set1\",\n",
    "            meanprops={\"marker\":\"o\",\n",
    "                       \"markerfacecolor\":\"white\", \n",
    "                       \"markeredgecolor\":\"black\",\n",
    "                      \"markersize\":\"6\"})\n",
    "\n",
    "plt.xlabel('')\n",
    "plt.ylabel('Iron (mg/kg)', fontsize=14)\n",
    "plt.text(-0.4,400000,\"D)\",\n",
    "         horizontalalignment='left',\n",
    "         size=16,\n",
    "         color='black',\n",
    "         weight='normal')\n",
    "#plt.legend(loc='lower left',\n",
    "#           ncol=1,\n",
    "#           bbox_to_anchor=(0,0.05),\n",
    "#           frameon=True)\n",
    "plt.legend('',frameon=False)\n",
    "#plt.ylim([0,4])"
   ]
  },
  {
   "cell_type": "code",
   "execution_count": 69,
   "id": "da65cd4c-f182-4e7a-a345-2503dfecbad0",
   "metadata": {},
   "outputs": [
    {
     "data": {
      "text/plain": [
       "<matplotlib.legend.Legend at 0x29a6e3de460>"
      ]
     },
     "execution_count": 69,
     "metadata": {},
     "output_type": "execute_result"
    },
    {
     "data": {
      "image/png": "[encoded data removed]",
      "text/plain": [
       "<Figure size 280.8x360 with 1 Axes>"
      ]
     },
     "metadata": {
      "needs_background": "light"
     },
     "output_type": "display_data"
    }
   ],
   "source": [
    "'''\n",
    "       's_Al', 's_Ar', 's_Pb', 's_Fe', 's_P', 's_Mn', 's_arg', 's_sil',\n",
    "       's_amf', 's_af', 's_am', 's_ag', 's_amg', 'Qmed'],\n",
    "'''\n",
    "\n",
    "#plt.figure(figsize=(3.9,5))\n",
    "plt.figure(figsize=(3.9,5))\n",
    "sns.boxplot(y='P(sed)',\n",
    "            x='Sector',\n",
    "            data=dados,\n",
    "            hue='Period',\n",
    "            showmeans=True,\n",
    "            palette=\"Set1\",\n",
    "            meanprops={\"marker\":\"o\",\n",
    "                       \"markerfacecolor\":\"white\", \n",
    "                       \"markeredgecolor\":\"black\",\n",
    "                      \"markersize\":\"6\"})\n",
    "\n",
    "plt.xlabel('')\n",
    "plt.ylabel('Phosphorus (mg/kg)', fontsize=14)\n",
    "plt.text(-0.4,2500,\"E)\",\n",
    "         horizontalalignment='left',\n",
    "         size=16,\n",
    "         color='black',\n",
    "         weight='normal')\n",
    "plt.legend(loc='lower left',\n",
    "           ncol=1,\n",
    "           bbox_to_anchor=(0,0.7),\n",
    "           frameon=True)\n",
    "#plt.legend('',frameon=False)\n",
    "#plt.ylim([0,4])"
   ]
  },
  {
   "cell_type": "code",
   "execution_count": 70,
   "id": "339ef23a-3f1a-4bc3-bf58-f84764d2f6b6",
   "metadata": {},
   "outputs": [
    {
     "data": {
      "text/plain": [
       "<matplotlib.legend.Legend at 0x29a6e4b9c10>"
      ]
     },
     "execution_count": 70,
     "metadata": {},
     "output_type": "execute_result"
    },
    {
     "data": {
      "image/png": "[encoded data removed]",
      "text/plain": [
       "<Figure size 280.8x360 with 1 Axes>"
      ]
     },
     "metadata": {
      "needs_background": "light"
     },
     "output_type": "display_data"
    }
   ],
   "source": [
    "'''\n",
    "       's_Al', 's_Ar', 's_Pb', 's_Fe', 's_P', 's_Mn', 's_arg', 's_sil',\n",
    "       's_amf', 's_af', 's_am', 's_ag', 's_amg', 'Qmed'],\n",
    "'''\n",
    "\n",
    "#plt.figure(figsize=(3.9,5))\n",
    "plt.figure(figsize=(3.9,5))\n",
    "sns.boxplot(y='Mn(sed)',\n",
    "            x='Sector',\n",
    "            data=dados,\n",
    "            hue='Period',\n",
    "            showmeans=True,\n",
    "            palette=\"Set1\",\n",
    "            meanprops={\"marker\":\"o\",\n",
    "                       \"markerfacecolor\":\"white\", \n",
    "                       \"markeredgecolor\":\"black\",\n",
    "                      \"markersize\":\"6\"})\n",
    "\n",
    "plt.xlabel('')\n",
    "plt.ylabel('Manganese (mg/kg)', fontsize=14)\n",
    "plt.text(-0.4,25300,\"F)\",\n",
    "         horizontalalignment='left',\n",
    "         size=16,\n",
    "         color='black',\n",
    "         weight='normal')\n",
    "#plt.legend(loc='lower left',\n",
    "#           ncol=1,\n",
    "#           bbox_to_anchor=(0,0.7),\n",
    "#           frameon=True)\n",
    "plt.legend('',frameon=False)\n",
    "#plt.ylim([0,4])"
   ]
  },
  {
   "cell_type": "markdown",
   "id": "b5483c30-8868-4cc6-974e-1e8fc597a8e9",
   "metadata": {},
   "source": [
    "# Particulas solo"
   ]
  },
  {
   "cell_type": "code",
   "execution_count": 71,
   "id": "ce05d5e6-1b27-4af6-aa33-6dfba33a8102",
   "metadata": {},
   "outputs": [
    {
     "data": {
      "text/plain": [
       "<matplotlib.legend.Legend at 0x29a6c283c10>"
      ]
     },
     "execution_count": 71,
     "metadata": {},
     "output_type": "execute_result"
    },
    {
     "data": {
      "image/png": "[encoded data removed]",
      "text/plain": [
       "<Figure size 280.8x360 with 1 Axes>"
      ]
     },
     "metadata": {
      "needs_background": "light"
     },
     "output_type": "display_data"
    }
   ],
   "source": [
    "'''\n",
    "       's_Al', 's_Ar', 's_Pb', 's_Fe', 's_P', 's_Mn', 's_arg', 's_sil',\n",
    "       's_amf', 's_af', 's_am', 's_ag', 's_amg', 'Qmed'],\n",
    "'''\n",
    "\n",
    "#plt.figure(figsize=(3.9,5))\n",
    "plt.figure(figsize=(3.9,5))\n",
    "sns.boxplot(y='Clay',\n",
    "            x='Sector',\n",
    "            data=dados,\n",
    "            hue='Period',\n",
    "            showmeans=True,\n",
    "            palette=\"Set1\",\n",
    "            meanprops={\"marker\":\"o\",\n",
    "                       \"markerfacecolor\":\"white\", \n",
    "                       \"markeredgecolor\":\"black\",\n",
    "                      \"markersize\":\"6\"})\n",
    "\n",
    "plt.xlabel('')\n",
    "plt.ylabel('Clay (g/kg)', fontsize=14)\n",
    "plt.text(-0.4,400,\"A)\",\n",
    "         horizontalalignment='left',\n",
    "         size=16,\n",
    "         color='black',\n",
    "         weight='normal')\n",
    "plt.legend(loc='lower left',\n",
    "           ncol=1,\n",
    "           bbox_to_anchor=(0,0.5),\n",
    "           frameon=True)\n",
    "#plt.legend('',frameon=False)\n",
    "#plt.ylim([0,4])"
   ]
  },
  {
   "cell_type": "code",
   "execution_count": 72,
   "id": "594c776d-26aa-4d2d-aa70-76d74d109bc2",
   "metadata": {},
   "outputs": [
    {
     "data": {
      "text/plain": [
       "<matplotlib.legend.Legend at 0x29a6e6dc5b0>"
      ]
     },
     "execution_count": 72,
     "metadata": {},
     "output_type": "execute_result"
    },
    {
     "data": {
      "image/png": "[encoded data removed]",
      "text/plain": [
       "<Figure size 280.8x360 with 1 Axes>"
      ]
     },
     "metadata": {
      "needs_background": "light"
     },
     "output_type": "display_data"
    }
   ],
   "source": [
    "'''\n",
    "       's_arg', 's_sil',\n",
    "       's_amf', 's_af', 's_am', 's_ag', 's_amg', 'Qmed'],\n",
    "'''\n",
    "\n",
    "#plt.figure(figsize=(3.9,5))\n",
    "plt.figure(figsize=(3.9,5))\n",
    "sns.boxplot(y='Silt',\n",
    "            x='Sector',\n",
    "            data=dados,\n",
    "            hue='Period',\n",
    "            showmeans=True,\n",
    "            palette=\"Set1\",\n",
    "            meanprops={\"marker\":\"o\",\n",
    "                       \"markerfacecolor\":\"white\", \n",
    "                       \"markeredgecolor\":\"black\",\n",
    "                      \"markersize\":\"6\"})\n",
    "\n",
    "plt.xlabel('')\n",
    "plt.ylabel('Silt (g/kg)', fontsize=14)\n",
    "plt.text(-0.4,950,\"B)\",\n",
    "         horizontalalignment='left',\n",
    "         size=16,\n",
    "         color='black',\n",
    "         weight='normal')\n",
    "#plt.legend(loc='lower left',\n",
    "#           ncol=1,\n",
    "#           bbox_to_anchor=(0,0.5),\n",
    "#           frameon=True)\n",
    "plt.legend('',frameon=False)\n",
    "#plt.ylim([0,4])"
   ]
  },
  {
   "cell_type": "code",
   "execution_count": 73,
   "id": "31aa13b4-d513-4190-b491-0da7832595b3",
   "metadata": {},
   "outputs": [
    {
     "data": {
      "text/plain": [
       "<matplotlib.legend.Legend at 0x29a6e4d84f0>"
      ]
     },
     "execution_count": 73,
     "metadata": {},
     "output_type": "execute_result"
    },
    {
     "data": {
      "image/png": "[encoded data removed]",
      "text/plain": [
       "<Figure size 280.8x360 with 1 Axes>"
      ]
     },
     "metadata": {
      "needs_background": "light"
     },
     "output_type": "display_data"
    }
   ],
   "source": [
    "'''\n",
    "       's_arg', 's_sil',\n",
    "       's_amf', 's_af', 's_am', 's_ag', 's_amg', 'Qmed'],\n",
    "'''\n",
    "\n",
    "#plt.figure(figsize=(3.9,5))\n",
    "plt.figure(figsize=(3.9,5))\n",
    "sns.boxplot(y='sandVF',\n",
    "            x='Sector',\n",
    "            data=dados,\n",
    "            hue='Period',\n",
    "            showmeans=True,\n",
    "            palette=\"Set1\",\n",
    "            meanprops={\"marker\":\"o\",\n",
    "                       \"markerfacecolor\":\"white\", \n",
    "                       \"markeredgecolor\":\"black\",\n",
    "                      \"markersize\":\"6\"})\n",
    "\n",
    "plt.xlabel('')\n",
    "plt.ylabel('Very fine-grained sand (g/kg)', fontsize=14)\n",
    "plt.text(-0.4,450,\"C)\",\n",
    "         horizontalalignment='left',\n",
    "         size=16,\n",
    "         color='black',\n",
    "         weight='normal')\n",
    "#plt.legend(loc='lower left',\n",
    "#           ncol=1,\n",
    "#           bbox_to_anchor=(0,0.5),\n",
    "#           frameon=True)\n",
    "plt.legend('',frameon=False)\n",
    "#plt.ylim([0,4])"
   ]
  },
  {
   "cell_type": "code",
   "execution_count": 74,
   "id": "2caef105-d343-42ef-9065-cdf2eb7676fb",
   "metadata": {},
   "outputs": [
    {
     "data": {
      "text/plain": [
       "<matplotlib.legend.Legend at 0x29a6f8ace50>"
      ]
     },
     "execution_count": 74,
     "metadata": {},
     "output_type": "execute_result"
    },
    {
     "data": {
      "image/png": "[encoded data removed]",
      "text/plain": [
       "<Figure size 280.8x360 with 1 Axes>"
      ]
     },
     "metadata": {
      "needs_background": "light"
     },
     "output_type": "display_data"
    }
   ],
   "source": [
    "'''\n",
    "       's_arg', 's_sil',\n",
    "       's_amf', 's_af', 's_am', 's_ag', 's_amg', 'Qmed'],\n",
    "'''\n",
    "\n",
    "#plt.figure(figsize=(3.9,5))\n",
    "plt.figure(figsize=(3.9,5))\n",
    "sns.boxplot(y='sandF',\n",
    "            x='Sector',\n",
    "            data=dados,\n",
    "            hue='Period',\n",
    "            showmeans=True,\n",
    "            palette=\"Set1\",\n",
    "            meanprops={\"marker\":\"o\",\n",
    "                       \"markerfacecolor\":\"white\", \n",
    "                       \"markeredgecolor\":\"black\",\n",
    "                      \"markersize\":\"6\"})\n",
    "\n",
    "plt.xlabel('')\n",
    "plt.ylabel('Fine-grained sand (g/kg)', fontsize=14)\n",
    "plt.text(-0.4,500,\"D)\",\n",
    "         horizontalalignment='left',\n",
    "         size=16,\n",
    "         color='black',\n",
    "         weight='normal')\n",
    "#plt.legend(loc='lower left',\n",
    "#           ncol=1,\n",
    "#           bbox_to_anchor=(0,0.5),\n",
    "#           frameon=True)\n",
    "plt.legend('',frameon=False)\n",
    "#plt.ylim([0,4])"
   ]
  },
  {
   "cell_type": "code",
   "execution_count": 75,
   "id": "8fda4ffe-2ab9-4a29-993a-ef5a642106a8",
   "metadata": {},
   "outputs": [
    {
     "data": {
      "text/plain": [
       "<matplotlib.legend.Legend at 0x29a6e3c3610>"
      ]
     },
     "execution_count": 75,
     "metadata": {},
     "output_type": "execute_result"
    },
    {
     "data": {
      "image/png": "[encoded data removed]",
      "text/plain": [
       "<Figure size 280.8x360 with 1 Axes>"
      ]
     },
     "metadata": {
      "needs_background": "light"
     },
     "output_type": "display_data"
    }
   ],
   "source": [
    "'''\n",
    "       's_arg', 's_sil',\n",
    "       's_amf', 's_af', 's_am', 's_ag', 's_amg', 'Qmed'],\n",
    "'''\n",
    "\n",
    "#plt.figure(figsize=(3.9,5))\n",
    "plt.figure(figsize=(3.9,5))\n",
    "sns.boxplot(y='sandM',\n",
    "            x='Sector',\n",
    "            data=dados,\n",
    "            hue='Period',\n",
    "            showmeans=True,\n",
    "            palette=\"Set1\",            \n",
    "            meanprops={\"marker\":\"o\",\n",
    "                       \"markerfacecolor\":\"white\", \n",
    "                       \"markeredgecolor\":\"black\",\n",
    "                      \"markersize\":\"6\"})\n",
    "\n",
    "plt.xlabel('')\n",
    "plt.ylabel('Sand (g/kg)', fontsize=14)\n",
    "plt.text(-0.4,720,\"E)\",\n",
    "         horizontalalignment='left',\n",
    "         size=16,\n",
    "         color='black',\n",
    "         weight='normal')\n",
    "plt.legend(loc='lower left',\n",
    "           ncol=1,\n",
    "           bbox_to_anchor=(0.25,0.6),\n",
    "           frameon=True)\n",
    "#plt.legend('',frameon=False)\n",
    "#plt.ylim([0,4])"
   ]
  },
  {
   "cell_type": "code",
   "execution_count": 76,
   "id": "31160330-a690-449a-8c7d-0a8b5509967e",
   "metadata": {},
   "outputs": [
    {
     "data": {
      "text/plain": [
       "(0.0, 700.0)"
      ]
     },
     "execution_count": 76,
     "metadata": {},
     "output_type": "execute_result"
    },
    {
     "data": {
      "image/png": "[encoded data removed]",
      "text/plain": [
       "<Figure size 280.8x360 with 1 Axes>"
      ]
     },
     "metadata": {
      "needs_background": "light"
     },
     "output_type": "display_data"
    }
   ],
   "source": [
    "'''\n",
    "       's_arg', 's_sil',\n",
    "       's_amf', 's_af', 's_am', 's_ag', 's_amg', 'Qmed'],\n",
    "'''\n",
    "\n",
    "#plt.figure(figsize=(3.9,5))\n",
    "plt.figure(figsize=(3.9,5))\n",
    "sns.boxplot(y='sandC',\n",
    "            x='Sector',\n",
    "            data=dados,\n",
    "            hue='Period',\n",
    "            showmeans=True,\n",
    "            palette=\"Set1\",\n",
    "            meanprops={\"marker\":\"o\",\n",
    "                       \"markerfacecolor\":\"white\", \n",
    "                       \"markeredgecolor\":\"black\",\n",
    "                      \"markersize\":\"6\"})\n",
    "\n",
    "plt.xlabel('')\n",
    "plt.ylabel('Coarse-grained sand (g/kg)', fontsize=14)\n",
    "plt.text(-0.4,660,\"F)\",\n",
    "         horizontalalignment='left',\n",
    "         size=16,\n",
    "         color='black',\n",
    "         weight='normal')\n",
    "#plt.legend(loc='lower left',\n",
    "#           ncol=1,\n",
    "#           bbox_to_anchor=(0.25,0.6),\n",
    "#           frameon=True)\n",
    "plt.legend('',frameon=False)\n",
    "plt.ylim([0,700])"
   ]
  },
  {
   "cell_type": "code",
   "execution_count": 77,
   "id": "c699ad0c-9bf4-4f68-95e5-31877e0156b3",
   "metadata": {},
   "outputs": [
    {
     "data": {
      "text/plain": [
       "(0.0, 700.0)"
      ]
     },
     "execution_count": 77,
     "metadata": {},
     "output_type": "execute_result"
    },
    {
     "data": {
      "image/png": "[encoded data removed]",
      "text/plain": [
       "<Figure size 280.8x360 with 1 Axes>"
      ]
     },
     "metadata": {
      "needs_background": "light"
     },
     "output_type": "display_data"
    }
   ],
   "source": [
    "'''\n",
    "       's_arg', 's_sil',\n",
    "       's_amf', 's_af', 's_am', 's_ag', 's_amg', 'Qmed'],\n",
    "'''\n",
    "\n",
    "#plt.figure(figsize=(3.9,5))\n",
    "plt.figure(figsize=(3.9,5))\n",
    "sns.boxplot(y='sandVC',\n",
    "            x='Sector',\n",
    "            data=dados,\n",
    "            hue='Period',\n",
    "            showmeans=True,\n",
    "            palette=\"Set1\",\n",
    "            meanprops={\"marker\":\"o\",\n",
    "                       \"markerfacecolor\":\"white\", \n",
    "                       \"markeredgecolor\":\"black\",\n",
    "                      \"markersize\":\"6\"})\n",
    "\n",
    "plt.xlabel('')\n",
    "plt.ylabel('Very coarsed-grained sand (g/kg)', fontsize=14)\n",
    "plt.text(-0.4,660,\"G)\",\n",
    "         horizontalalignment='left',\n",
    "         size=16,\n",
    "         color='black',\n",
    "         weight='normal')\n",
    "#plt.legend(loc='lower left',\n",
    "#           ncol=1,\n",
    "#           bbox_to_anchor=(0.25,0.6),\n",
    "#           frameon=True)\n",
    "plt.legend('',frameon=False)\n",
    "plt.ylim([0,700])"
   ]
  },
  {
   "cell_type": "code",
   "execution_count": 81,
   "id": "f69ab149-919d-437f-893b-425bfccf486b",
   "metadata": {},
   "outputs": [
    {
     "data": {
      "text/plain": [
       "(0.0, 350.0)"
      ]
     },
     "execution_count": 81,
     "metadata": {},
     "output_type": "execute_result"
    },
    {
     "data": {
      "image/png": "[encoded data removed]",
      "text/plain": [
       "<Figure size 280.8x360 with 1 Axes>"
      ]
     },
     "metadata": {
      "needs_background": "light"
     },
     "output_type": "display_data"
    }
   ],
   "source": [
    "'''\n",
    "       's_arg', 's_sil',\n",
    "       's_amf', 's_af', 's_am', 's_ag', 's_amg', 'Qmed'],\n",
    "'''\n",
    "\n",
    "#plt.figure(figsize=(3.9,5))\n",
    "plt.figure(figsize=(3.9,5))\n",
    "sns.boxplot(y='Q',\n",
    "            x='Sector',\n",
    "            data=dados,\n",
    "            hue='Period',\n",
    "            showmeans=True,\n",
    "            palette=\"Set1\",\n",
    "            meanprops={\"marker\":\"o\",\n",
    "                       \"markerfacecolor\":\"white\", \n",
    "                       \"markeredgecolor\":\"black\",\n",
    "                      \"markersize\":\"6\"})\n",
    "\n",
    "plt.xlabel('')\n",
    "plt.ylabel(r'Daily Discharge (m$^3$/s)', fontsize=14)\n",
    "plt.text(-0.4,330,\"H)\",\n",
    "         horizontalalignment='left',\n",
    "         size=16,\n",
    "         color='black',\n",
    "         weight='normal')\n",
    "#plt.legend(loc='lower left',\n",
    "#           ncol=1,\n",
    "#           bbox_to_anchor=(0.25,0.6),\n",
    "#           frameon=True)\n",
    "plt.legend('',frameon=False)\n",
    "plt.ylim([0,350])"
   ]
  },
  {
   "cell_type": "code",
   "execution_count": null,
   "id": "42c98466-bdd5-4184-a90b-2f9578b42764",
   "metadata": {},
   "outputs": [],
   "source": []
  },
  {
   "cell_type": "code",
   "execution_count": null,
   "id": "7f8a1503",
   "metadata": {},
   "outputs": [],
   "source": []
  },
  {
   "cell_type": "code",
   "execution_count": null,
   "id": "f1ecaff0",
   "metadata": {},
   "outputs": [],
   "source": []
  }
 ],
 "metadata": {
  "kernelspec": {
   "display_name": "Python 3.9.12 ('base': conda)",
   "language": "python",
   "name": "python3"
  },
  "language_info": {
   "codemirror_mode": {
    "name": "ipython",
    "version": 3
   },
   "file_extension": ".py",
   "mimetype": "text/x-python",
   "name": "python",
   "nbconvert_exporter": "python",
   "pygments_lexer": "ipython3",
   "version": "3.9.12"
  },
  "vscode": {
   "interpreter": {
    "hash": "71f3135f38162a6a3f91beec8fdfd21c8dd6cf4df10ceb79908dc7ea19fc188a"
   }
  }
 },
 "nbformat": 4,
 "nbformat_minor": 5
}
